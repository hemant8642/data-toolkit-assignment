{
  "nbformat": 4,
  "nbformat_minor": 0,
  "metadata": {
    "colab": {
      "provenance": []
    },
    "kernelspec": {
      "name": "python3",
      "display_name": "Python 3"
    },
    "language_info": {
      "name": "python"
    }
  },
  "cells": [
    {
      "cell_type": "markdown",
      "source": [
        "**1.What is NumPy, and why is it widely used in Python?**"
      ],
      "metadata": {
        "id": "pI8OELgVd9me"
      }
    },
    {
      "cell_type": "markdown",
      "source": [
        "**ANS**\n",
        "\n",
        "NumPy (Numerical Python) is a library for working with arrays and mathematical operations in Python. It is a fundamental package for scientific computing and data analysis in Python. NumPy provides support for large, multi-dimensional arrays and matrices, along with a wide range of high-performance mathematical functions to manipulate them.\n",
        "\n",
        "Key Features of NumPy:\n",
        "\n",
        "1. Multi-dimensional arrays: NumPy's core data structure is the ndarray, which allows for efficient storage and manipulation of large datasets.\n",
        "2. Vectorized operations: NumPy provides an extensive range of vectorized operations, which enable fast and efficient computations on entire arrays at once.\n",
        "3. Matrix operations: NumPy supports matrix multiplication, matrix decomposition, and other matrix-related operations.\n",
        "4. Random number generation: NumPy provides a range of random number generators for different distributions.\n",
        "5. Linear algebra functions: NumPy includes functions for solving linear systems, eigenvalue decomposition, and other linear algebra operations.\n",
        "\n",
        "Why is NumPy widely used in Python?\n",
        "\n",
        "1. Efficient data storage and manipulation: NumPy's ndarray data structure allows for efficient storage and manipulation of large datasets.\n",
        "2. Fast computations: NumPy's vectorized operations enable fast and efficient computations on entire arrays at once.\n",
        "3. Convenient data analysis: NumPy provides a wide range of functions for data analysis, including statistical functions, Fourier transforms, and more.\n",
        "4. Interoperability with other libraries: NumPy is designed to work seamlessly with other popular Python libraries, including Pandas, Matplotlib, and Scikit-learn.\n",
        "5. Large community and extensive documentation: NumPy has a large and active community, with extensive documentation and resources available for learning and troubleshooting.\n",
        "\n",
        "Real-world applications of NumPy:\n",
        "\n",
        "1. Scientific computing: NumPy is widely used in scientific computing for tasks such as data analysis, numerical simulations, and visualization.\n",
        "2. Data science and machine learning: NumPy is a fundamental library for data science and machine learning in Python, providing efficient data storage and manipulation capabilities.\n",
        "3. Image and signal processing: NumPy is used in image and signal processing for tasks such as image filtering, convolution, and Fourier transforms.\n",
        "4. Financial modeling and analysis: NumPy is used in financial modeling and analysis for tasks such as data analysis, risk modeling, and portfolio optimization."
      ],
      "metadata": {
        "id": "DDJpY8qIeWoc"
      }
    },
    {
      "cell_type": "markdown",
      "source": [
        "**2.How does broadcasting work in NumPy?**"
      ],
      "metadata": {
        "id": "uD81_r0nem2O"
      }
    },
    {
      "cell_type": "markdown",
      "source": [
        "**ANS**\n",
        "\n",
        "Broadcasting is a set of rules that allow NumPy to perform operations on arrays with different shapes and sizes. It allows you to perform element-wise operations on arrays with different numbers of dimensions.\n",
        "\n",
        "Rules of Broadcasting\n",
        "\n",
        "Here are the rules of broadcasting:\n",
        "\n",
        "1. Matching dimensions: If two arrays have the same number of dimensions, NumPy compares their shapes element-wise. It starts with the trailing dimensions, and works its way forward.\n",
        "2. Singleton dimensions: If one array has a singleton dimension (i.e., a dimension of size 1), NumPy will \"broadcast\" that dimension to match the size of the corresponding dimension in the other array.\n",
        "3. Size 1 arrays: If one array has a size of 1, NumPy will broadcast it to match the shape of the other array.\n",
        "\n",
        "Examples of Broadcasting\n",
        "\n",
        "Here are some examples of broadcasting:\n",
        "\n",
        "Example 1: Adding a scalar to an array\n",
        "\n",
        "\n",
        "import numpy as np\n",
        "\n",
        "a = np.array([1, 2, 3])\n",
        "b = 2\n",
        "\n",
        "result = a + b\n",
        "print(result)  # Output: [3, 4, 5]\n",
        "\n",
        "\n",
        "In this example, NumPy broadcasts the scalar b to match the shape of a.\n",
        "\n",
        "Example 2: Adding two arrays with different shapes\n",
        "\n",
        "\n",
        "import numpy as np\n",
        "\n",
        "a = np.array([[1, 2], [3, 4]])\n",
        "b = np.array([10, 20])\n",
        "\n",
        "result = a + b\n",
        "print(result)\n",
        "# Output:\n",
        "# [[11, 22],\n",
        "#  [13, 24]]\n",
        "\n",
        "\n",
        "In this example, NumPy broadcasts b to match the shape of a.\n",
        "\n",
        "Example 3: Multiplying two arrays with different shapes\n",
        "\n",
        "\n",
        "import numpy as np\n",
        "\n",
        "a = np.array([[1, 2], [3, 4]])\n",
        "b = np.array([[10], [20]])\n",
        "\n",
        "result = a * b\n",
        "print(result)\n",
        "# Output:\n",
        "# [[10, 20],\n",
        "#  [60, 80]]\n",
        "\n",
        "\n",
        "In this example, NumPy broadcasts b to match the shape of a.\n"
      ],
      "metadata": {
        "id": "Yx04TzGJe7rj"
      }
    },
    {
      "cell_type": "markdown",
      "source": [
        "**3.What is a Pandas DataFrame?**"
      ],
      "metadata": {
        "id": "9U-bb62hfLo1"
      }
    },
    {
      "cell_type": "markdown",
      "source": [
        "**ANS**\n",
        "\n",
        "A Pandas DataFrame is a two-dimensional data structure used to store and manipulate tabular data in Python. It is a fundamental data structure in the Pandas library, which is widely used for data analysis and manipulation.\n",
        "\n",
        "Key Features of a Pandas DataFrame:\n",
        "\n",
        "1. Two-dimensional data structure: A DataFrame consists of rows and columns, similar to an Excel spreadsheet or a table in a relational database.\n",
        "2. Columns with different data types: Each column in a DataFrame can have a different data type, such as integers, floats, strings, or timestamps.\n",
        "3. Indexing and labeling: DataFrames have an index, which is a column that labels each row. The index can be used to access and manipulate specific rows.\n",
        "4. Data manipulation and analysis: DataFrames provide various methods for data manipulation, such as filtering, sorting, grouping, and merging.\n",
        "5. Integration with other Pandas data structures: DataFrames can be easily converted to other Pandas data structures, such as Series (one-dimensional labeled array) or Panels (three-dimensional data structure).\n"
      ],
      "metadata": {
        "id": "4oObH8XZfaOc"
      }
    },
    {
      "cell_type": "markdown",
      "source": [
        "**4.Explain the use of the groupby() method in Pandas?**"
      ],
      "metadata": {
        "id": "StAFokd-fi-S"
      }
    },
    {
      "cell_type": "markdown",
      "source": [
        "**ANS**\n",
        "\n",
        "The groupby() method in Pandas is a powerful tool for grouping data by one or more columns and performing various aggregation operations on the grouped data.\n",
        "\n",
        "What is the groupby() method?\n",
        "\n",
        "The groupby() method is a Pandas DataFrame method that splits the data into groups based on some criteria, such as a column or a set of columns. It returns a DataFrameGroupBy object, which contains information about the groups.\n",
        "\n",
        "Why use the groupby() method?\n",
        "\n",
        "The groupby() method is useful when you need to:\n",
        "\n",
        "1. Aggregate data: Calculate summary statistics, such as mean, sum, count, etc., for each group.\n",
        "2. Filter data: Select specific groups based on conditions.\n",
        "3. Transform data: Apply transformations to each group, such as scaling or normalization.\n",
        "4. Analyze data: Perform statistical analysis, such as hypothesis testing or regression analysis, on each group.\n",
        "\n",
        "Basic syntax\n",
        "\n",
        "The basic syntax of the groupby() method is:\n",
        "\n",
        "df.groupby(by=None, axis=0, level=None, as_index=True, sort=True, group_keys=True, squeeze=False)\n",
        "\n",
        "- by: The column(s) to group by.\n",
        "- axis: The axis to group by (0 for rows, 1 for columns).\n",
        "- level: The level of the index to group by.\n",
        "- as_index: Whether to use the groupby column as the index.\n",
        "- sort: Whether to sort the groups.\n",
        "- group_keys: Whether to include the group keys in the result.\n",
        "- squeeze: Whether to squeeze the result to a Series if possible.\n",
        "\n",
        "Examples\n",
        "\n",
        "1. Group by a single column\n",
        "\n",
        "import pandas as pd\n",
        "\n",
        "# Create a sample DataFrame\n",
        "data = {'Name': ['John', 'Mary', 'John', 'Mary'],\n",
        "        'Age': [25, 31, 25, 31],\n",
        "        'Score': [90, 85, 95, 90]}\n",
        "df = pd.DataFrame(data)\n",
        "\n",
        "# Group by the 'Name' column\n",
        "grouped = df.groupby('Name')\n",
        "\n",
        "# Calculate the mean score for each group\n",
        "mean_scores = grouped['Score'].mean()\n",
        "print(mean_scores)\n",
        "\n",
        "Output:\n",
        "\n",
        "Name\n",
        "John    92.5\n",
        "Mary    87.5\n",
        "Name: Score, dtype: float64\n",
        "\n",
        "1. Group by multiple columns\n",
        "\n",
        "# Group by the 'Name' and 'Age' columns\n",
        "grouped = df.groupby(['Name', 'Age'])\n",
        "\n",
        "# Calculate the mean score for each group\n",
        "mean_scores = grouped['Score'].mean()\n",
        "print(mean_scores)\n",
        "\n",
        "Output:\n",
        "\n",
        "Name  Age\n",
        "John  25    92.5\n",
        "Mary  31    87.5\n",
        "Name: Score, dtype: float64\n",
        "\n",
        "1. Apply a custom function to each group\n",
        "\n",
        "# Define a custom function to calculate the standard deviation\n",
        "def std_dev(group):\n",
        "    return group['Score'].std()\n",
        "\n",
        "# Apply the custom function to each group\n",
        "std_devs = grouped.apply(std_dev)\n",
        "print(std_devs)\n",
        "\n",
        "Output:\n",
        "\n",
        "Name  Age\n",
        "John  25    2.121320\n",
        "Mary  31    2.121320\n",
        "Name: Score, dtype: float64\n"
      ],
      "metadata": {
        "id": "fBp4FESagA8L"
      }
    },
    {
      "cell_type": "markdown",
      "source": [
        "**5.Why is Seaborn preferred for statistical visualizations**"
      ],
      "metadata": {
        "id": "xX_Zd52-gMyT"
      }
    },
    {
      "cell_type": "markdown",
      "source": [
        "**ANS**\n",
        "\n",
        "Seaborn is a popular Python data visualization library that is widely used for statistical visualizations. Here are some reasons why Seaborn is preferred for statistical visualizations:\n",
        "\n",
        "Aesthetics and Visualization\n",
        "\n",
        "1. Attractive and informative visualizations: Seaborn provides a high-level interface for creating attractive and informative statistical graphics.\n",
        "2. Customizable themes: Seaborn allows users to customize the appearance of their visualizations using various themes.\n",
        "\n",
        "Integration with Pandas and Matplotlib\n",
        "\n",
        "1. Tight integration with Pandas: Seaborn is designed to work seamlessly with Pandas DataFrames, making it easy to visualize and explore data.\n",
        "2. Built on top of Matplotlib: Seaborn is built on top of Matplotlib, which provides a comprehensive set of tools for creating high-quality 2D and 3D plots.\n",
        "\n",
        "Statistical Visualization Tools\n",
        "\n",
        "1. Specialized tools for statistical visualization: Seaborn provides a range of specialized tools for statistical visualization, including tools for visualizing distributions, regression models, and time series data.\n",
        "2. Support for statistical graphics: Seaborn supports a range of statistical graphics, including histograms, boxplots, violin plots, and scatterplots.\n",
        "\n",
        "Ease of Use\n",
        "\n",
        "1. Simple and intuitive API: Seaborn has a simple and intuitive API that makes it easy to create complex visualizations.\n",
        "2. Consistent syntax: Seaborn's syntax is consistent with other Python data science libraries, making it easy to learn and use.\n",
        "\n",
        "Community Support\n",
        "\n",
        "1. Large and active community: Seaborn has a large and active community of users and contributors, which ensures that the library is well-maintained and regularly updated.\n",
        "2. Extensive documentation: Seaborn has extensive documentation that includes tutorials, examples, and reference materials.\n"
      ],
      "metadata": {
        "id": "ZUPTisRZgb-k"
      }
    },
    {
      "cell_type": "markdown",
      "source": [
        "**6.What are the differences between NumPy arrays and Python lists?**"
      ],
      "metadata": {
        "id": "pF1kOK56ghi6"
      }
    },
    {
      "cell_type": "markdown",
      "source": [
        "**ANS**\n",
        "\n",
        "NumPy arrays and Python lists are both data structures used to store collections of data, but they have distinct differences in terms of their characteristics, advantages, and use cases.\n",
        "\n",
        "Differences:\n",
        "\n",
        "1. Homogeneous vs. Heterogeneous:\n",
        "    - NumPy arrays: Homogeneous, meaning all elements must be of the same data type.\n",
        "    - Python lists: Heterogeneous, meaning elements can be of different data types.\n",
        "2. Memory Layout:\n",
        "    - NumPy arrays: Stored in a contiguous block of memory, which allows for efficient memory access and manipulation.\n",
        "    - Python lists: Stored as a collection of pointers to individual elements, which can lead to slower memory access and manipulation.\n",
        "3. Performance:\n",
        "    - NumPy arrays: Optimized for numerical computations, providing faster performance for operations like matrix multiplication, convolution, and more.\n",
        "    - Python lists: General-purpose data structure, not optimized for numerical computations, resulting in slower performance.\n",
        "4. Size and Shape:\n",
        "    - NumPy arrays: Can have multiple dimensions (e.g., 2D, 3D, etc.) and a fixed size.\n",
        "    - Python lists: One-dimensional and dynamic in size.\n",
        "5. Indexing and Slicing:\n",
        "    - NumPy arrays: Support advanced indexing and slicing techniques, such as boolean indexing, fancy indexing, and more.\n",
        "    - Python lists: Support basic indexing and slicing, but not as advanced as NumPy arrays.\n",
        "6. Mathematical Operations:\n",
        "    - NumPy arrays: Support element-wise mathematical operations, such as addition, subtraction, multiplication, and division.\n",
        "    - Python lists: Do not support element-wise mathematical operations.\n",
        "7. Integration with Other Libraries:\n",
        "    - NumPy arrays: Seamlessly integrate with other popular scientific computing libraries, such as Pandas, SciPy, and Matplotlib.\n",
        "    - Python lists: Can be used with other libraries, but may require additional conversion or processing steps.\n",
        "\n",
        "When to Use Each:\n",
        "\n",
        "1. NumPy arrays:\n",
        "    - Numerical computations, scientific simulations, and data analysis.\n",
        "    - Large-scale data processing and machine learning tasks.\n",
        "    - When performance and efficiency are critical.\n",
        "2. Python lists:\n",
        "    - General-purpose programming, such as web development, scripting, and automation.\n",
        "    - When working with heterogeneous data or dynamic data structures.\n",
        "    - When performance is not a top priority.\n"
      ],
      "metadata": {
        "id": "AF4fgUJugve0"
      }
    },
    {
      "cell_type": "markdown",
      "source": [
        "**7. What is a heatmap, and when should it be used**"
      ],
      "metadata": {
        "id": "lK0QImBmg7NC"
      }
    },
    {
      "cell_type": "markdown",
      "source": [
        "**ANS**\n",
        "\n",
        "A heatmap is a graphical representation of data where values are depicted by color. It is a two-dimensional representation of data where the x-axis and y-axis represent different variables, and the color of each cell represents the value of the data point.\n",
        "\n",
        "Types of Heatmaps:\n",
        "\n",
        "1. Simple Heatmap: A basic heatmap where the color of each cell represents the value of the data point.\n",
        "2. Clustered Heatmap: A heatmap where similar data points are clustered together based on their values.\n",
        "3. Hierarchical Heatmap: A heatmap where the data points are organized in a hierarchical structure, with the most similar data points clustered together.\n",
        "\n",
        "When to Use a Heatmap:\n",
        "\n",
        "1. Visualizing Complex Data: Heatmaps are useful for visualizing complex data with multiple variables.\n",
        "2. Identifying Patterns and Trends: Heatmaps can help identify patterns and trends in data that may not be immediately apparent.\n",
        "3. Comparing Data: Heatmaps can be used to compare data across different categories or groups.\n",
        "4. Visualizing Correlations: Heatmaps can be used to visualize correlations between different variables.\n",
        "\n",
        "Advantages of Heatmaps:\n",
        "\n",
        "1. Easy to Interpret: Heatmaps are easy to interpret, even for large datasets.\n",
        "2. Visualize Complex Data: Heatmaps can visualize complex data with multiple variables.\n",
        "3. Identify Patterns and Trends: Heatmaps can help identify patterns and trends in data.\n",
        "\n",
        "Disadvantages of Heatmaps:\n",
        "\n",
        "1. Overwhelming Amount of Data: Heatmaps can be overwhelming if there is too much data.\n",
        "2. Difficult to Compare: Heatmaps can be difficult to compare across different datasets.\n",
        "3. Limited Granularity: Heatmaps may not provide detailed information about individual data points."
      ],
      "metadata": {
        "id": "DAHWQx7HhERl"
      }
    },
    {
      "cell_type": "markdown",
      "source": [
        "**8.What does the term “vectorized operation” mean in NumPy**"
      ],
      "metadata": {
        "id": "LmU0_qpGheXD"
      }
    },
    {
      "cell_type": "markdown",
      "source": [
        "**ANS**\n",
        "\n",
        "In NumPy, a vectorized operation is an operation that is applied element-wise to entire arrays or vectors, rather than individual elements. This allows for fast and efficient computation on large datasets.\n",
        "\n",
        "What is Vectorization?\n",
        "\n",
        "Vectorization is the process of converting a scalar operation (i.e., an operation that operates on individual elements) into a vector operation (i.e., an operation that operates on entire arrays or vectors).\n",
        "\n",
        "How Does Vectorization Work?\n",
        "\n",
        "When you perform a vectorized operation in NumPy, the operation is applied element-wise to the entire array or vector. This means that the operation is performed simultaneously on all elements of the array, rather than individually.\n",
        "\n",
        "Benefits of Vectorization\n",
        "\n",
        "1. Speed: Vectorized operations are much faster than scalar operations, especially for large datasets.\n",
        "2. Efficiency: Vectorized operations reduce the need for loops and conditional statements, making the code more efficient and easier to read.\n",
        "3. Convenience: Vectorized operations allow you to perform complex operations on entire arrays or vectors with a single line of code.\n",
        "\n",
        "Examples of Vectorized Operations\n",
        "\n",
        "1. Element-wise addition: a + b\n",
        "2. Element-wise multiplication: a * b\n",
        "3. Exponentiation: a ** 2\n",
        "4. Trigonometric functions: np.sin(a)\n",
        "5. Statistical functions: np.mean(a)\n",
        "\n",
        "How to Vectorize Operations in NumPy\n",
        "\n",
        "1. Use NumPy's universal functions (ufuncs): NumPy provides a range of ufuncs that can be used to perform vectorized operations, such as np.add(), np.multiply(), and np.sin().\n",
        "2. Use NumPy's broadcasting rules: NumPy's broadcasting rules allow you to perform operations on arrays with different shapes and sizes.\n",
        "3. Avoid using loops: Loops can slow down your code and make it less efficient. Instead, try to use vectorized operations to perform the same task.\n"
      ],
      "metadata": {
        "id": "_nz2e0Ylhh6y"
      }
    },
    {
      "cell_type": "markdown",
      "source": [
        "**9. How does Matplotlib differ from Plotly?**"
      ],
      "metadata": {
        "id": "yqTCVgrxhzXx"
      }
    },
    {
      "cell_type": "markdown",
      "source": [
        "**ANS**\n",
        "\n",
        "Matplotlib and Plotly are two popular data visualization libraries in Python. While both libraries are used for creating static and interactive visualizations, they differ in their approach, features, and use cases.\n",
        "\n",
        "Matplotlib\n",
        "\n",
        "Matplotlib is a widely used, mature, and feature-rich library for creating static, animated, and interactive visualizations. It provides a comprehensive set of tools for creating high-quality 2D and 3D plots, charts, and graphs.\n",
        "\n",
        "Key features:\n",
        "\n",
        "1. Static plots: Matplotlib excels at creating high-quality static plots, including line plots, scatter plots, histograms, and more.\n",
        "2. Customization: Matplotlib offers extensive customization options, allowing users to fine-tune plot appearance, layout, and behavior.\n",
        "3. Integration with other libraries: Matplotlib integrates well with other popular Python libraries, such as NumPy, Pandas, and Scikit-learn.\n",
        "\n",
        "Plotly\n",
        "\n",
        "Plotly is a popular library for creating interactive, web-based visualizations. It allows users to create a wide range of interactive plots, charts, and graphs, including 3D plots and maps.\n",
        "\n",
        "Key features:\n",
        "\n",
        "1. Interactive plots: Plotly excels at creating interactive plots that allow users to hover, zoom, and pan to explore data.\n",
        "2. Web-based visualizations: Plotly plots are web-based, making it easy to share and embed visualizations in web applications, blogs, and presentations.\n",
        "3. Support for big data: Plotly is designed to handle large datasets and provides optimized performance for big data visualizations.\n",
        "\n",
        "Key differences\n",
        "\n",
        "1. Interactivity: Plotly is designed for interactive visualizations, while Matplotlib is geared towards static plots.\n",
        "2. Web-based vs. desktop: Plotly plots are web-based, while Matplotlib plots are typically created for desktop applications or static reports.\n",
        "3. Customization: Matplotlib offers more extensive customization options, while Plotly provides a more streamlined and user-friendly interface.\n",
        "4. Performance: Plotly is optimized for big data visualizations, while Matplotlib can become slower with very large datasets.\n",
        "\n",
        "Choose Matplotlib when:\n",
        "\n",
        "1. You need to create high-quality static plots for reports, papers, or presentations.\n",
        "2. You require extensive customization options to fine-tune plot appearance and behavior.\n",
        "3. You're working with smaller to medium-sized datasets.\n",
        "\n",
        "Choose Plotly when:\n",
        "\n",
        "1. You need to create interactive, web-based visualizations for data exploration or sharing.\n",
        "2. You're working with large datasets and need optimized performance.\n",
        "3. You want to create 3D plots, maps, or other specialized visualizations.\n"
      ],
      "metadata": {
        "id": "hz-kFt9Mh8aJ"
      }
    },
    {
      "cell_type": "markdown",
      "source": [
        "**10.What is the significance of hierarchical indexing in Pandas?**"
      ],
      "metadata": {
        "id": "rZQW6RjPiJTC"
      }
    },
    {
      "cell_type": "markdown",
      "source": [
        "**ANS**\n",
        "\n",
        "Hierarchical indexing, also known as MultiIndex, is a powerful feature in Pandas that allows you to index and manipulate data with multiple levels of indexing. This feature is particularly useful when working with complex, hierarchical data structures.\n",
        "\n",
        "What is Hierarchical Indexing?\n",
        "\n",
        "Hierarchical indexing is a way to index data using multiple levels of labels. Each level of indexing is represented by a separate index, and the combination of these indexes forms a hierarchical structure. This allows you to access and manipulate data at different levels of granularity.\n",
        "\n",
        "Significance of Hierarchical Indexing:\n",
        "\n",
        "1. Efficient data access: Hierarchical indexing enables fast and efficient access to data, especially when working with large datasets.\n",
        "2. Improved data organization: Hierarchical indexing helps to organize data in a logical and structured way, making it easier to understand and analyze.\n",
        "3. Flexible data manipulation: Hierarchical indexing allows for flexible data manipulation, such as grouping, sorting, and filtering, at different levels of granularity.\n",
        "4. Simplified data analysis: Hierarchical indexing simplifies data analysis by providing a clear and consistent way to access and manipulate data.\n",
        "\n",
        "Use Cases for Hierarchical Indexing:\n",
        "\n",
        "1. Time series data: Hierarchical indexing is useful when working with time series data, where you may have multiple levels of indexing, such as date, hour, and minute.\n",
        "2. Geospatial data: Hierarchical indexing is useful when working with geospatial data, where you may have multiple levels of indexing, such as country, state, and city.\n",
        "3. Financial data: Hierarchical indexing is useful when working with financial data, where you may have multiple levels of indexing, such as company, department, and account.\n",
        "4. Scientific data: Hierarchical indexing is useful when working with scientific data, where you may have multiple levels of indexing, such as experiment, trial, and sample.\n",
        "\n",
        "Creating Hierarchical Indexing in Pandas:\n",
        "\n",
        "You can create hierarchical indexing in Pandas using the MultiIndex constructor or by using the set_index method.\n",
        "\n",
        "import pandas as pd\n",
        "\n",
        "# Create a sample DataFrame\n",
        "data = {'Date': ['2022-01-01', '2022-01-02', '2022-01-03'],\n",
        "        'Hour': [1, 2, 3],\n",
        "        'Value': [10, 20, 30]}\n",
        "df = pd.DataFrame(data)\n",
        "\n",
        "# Create a hierarchical index\n",
        "df.set_index(['Date', 'Hour'], inplace=True)\n",
        "\n",
        "print(df)\n",
        "\n",
        "Output:\n",
        "\n",
        "                  \n",
        "Date       Hour    value\n",
        "\n",
        "2022-01-01 1         10\n",
        "\n",
        "2022-01-02 2         20\n",
        "\n",
        "2022-01-03 3         30\n"
      ],
      "metadata": {
        "id": "HOgSCBXEiRJb"
      }
    },
    {
      "cell_type": "markdown",
      "source": [
        "**11.What is the role of Seaborn’s pairplot() function?**"
      ],
      "metadata": {
        "id": "tcewaXJxi_9i"
      }
    },
    {
      "cell_type": "markdown",
      "source": [
        "**ANS**\n",
        "\n",
        "Seaborn's pairplot() function is a powerful visualization tool that creates a matrix of pairwise plots to help understand the relationships between multiple variables in a dataset.\n",
        "\n",
        "What is a Pairplot?\n",
        "\n",
        "A pairplot is a type of visualization that displays the relationships between multiple variables in a dataset. It consists of a matrix of pairwise plots, where each row and column represent a variable, and each cell contains a plot showing the relationship between the two variables.\n",
        "\n",
        "Role of pairplot() function:\n",
        "\n",
        "The pairplot() function in Seaborn creates a pairplot visualization to help:\n",
        "\n",
        "1. Explore relationships: Understand the relationships between multiple variables in a dataset, including correlations, patterns, and outliers.\n",
        "2. Identify correlations: Identify variables that are strongly correlated with each other, which can help inform feature selection, dimensionality reduction, and model selection.\n",
        "3. Visualize distributions: Visualize the distributions of individual variables, including their shapes, central tendencies, and variability.\n",
        "4. Detect outliers: Detect outliers and anomalies in the data, which can help identify data quality issues or unusual patterns.\n",
        "\n",
        "Customization options:\n",
        "\n",
        "The pairplot() function offers several customization options, including:\n",
        "\n",
        "1. Variable selection: Select which variables to include in the pairplot.\n",
        "2. Plot type: Choose from different plot types, such as scatterplots, histograms, or regression plots.\n",
        "3. Color palette: Customize the color palette used in the pairplot.\n",
        "4. Marker styles: Customize the marker styles used in the scatterplots.\n",
        "\n",
        "Example usage:\n",
        "\n",
        "Here's an example usage of the pairplot() function:\n",
        "\n",
        "import seaborn as sns\n",
        "import matplotlib.pyplot as plt\n",
        "\n",
        "# Load the iris dataset\n",
        "iris = sns.load_dataset(\"iris\")\n",
        "\n",
        "# Create a pairplot\n",
        "sns.pairplot(iris, vars=[\"sepal_length\", \"sepal_width\", \"petal_length\", \"petal_width\"],\n",
        "              hue=\"species\", markers=[\"o\", \"s\", \"D\"])\n",
        "\n",
        "# Show the plot\n",
        "plt.show()"
      ],
      "metadata": {
        "id": "CqgV-5W-jSGp"
      }
    },
    {
      "cell_type": "markdown",
      "source": [
        "**12. What is the purpose of the describe() function in Pandas?**"
      ],
      "metadata": {
        "id": "BSnFzQ6MjW1D"
      }
    },
    {
      "cell_type": "markdown",
      "source": [
        "**ANS**\n",
        "\n",
        "The describe() function in Pandas is a convenient method for generating descriptive statistics for a DataFrame or Series. It provides a quick and easy way to summarize the main characteristics of a dataset, including central tendency, dispersion, and shape.\n",
        "\n",
        "Purpose of describe():\n",
        "\n",
        "The primary purpose of the describe() function is to provide a concise summary of the key statistics for a dataset. This includes:\n",
        "\n",
        "1. Count: The number of non-missing values in the dataset.\n",
        "2. Mean: The average value of the dataset.\n",
        "3. Standard Deviation (std): A measure of the spread or dispersion of the dataset.\n",
        "4. Minimum (min): The smallest value in the dataset.\n",
        "5. 25% (25%): The first quartile (Q1) of the dataset.\n",
        "6. 50% (50%): The second quartile (Q2) or median of the dataset.\n",
        "7. 75% (75%): The third quartile (Q3) of the dataset.\n",
        "8. Maximum (max): The largest value in the dataset.\n",
        "\n",
        "Additional benefits:\n",
        "\n",
        "1. Data quality checks: The describe() function can help identify missing values, outliers, and data entry errors.\n",
        "2. Data exploration: The summary statistics provided by describe() can inform the development of hypotheses and guide further data analysis.\n",
        "3. Communication: The concise output of describe() makes it easy to share summary statistics with others, facilitating communication and collaboration.\n",
        "\n",
        "Example usage:\n",
        "\n",
        "Here's an example usage of the describe() function:\n",
        "\n",
        "import pandas as pd\n",
        "\n",
        "# Create a sample DataFrame\n",
        "data = {'Name': ['John', 'Mary', 'David', 'Emily'],\n",
        "        'Age': [25, 31, 42, 28],\n",
        "        'Score': [90, 85, 78, 92]}\n",
        "df = pd.DataFrame(data)\n",
        "\n",
        "# Generate descriptive statistics\n",
        "stats = df.describe()\n",
        "\n",
        "# Print the results\n",
        "print(stats)\n",
        "\n",
        "Output:\n",
        "\n",
        "           Age      Score\n",
        "count   4.000000   4.000000\n",
        "\n",
        "mean   31.500000  86.250000\n",
        "\n",
        "std     7.500000   5.354232\n",
        "\n",
        "min    25.000000  78.000000\n",
        "\n",
        "25%    28.000000  84.500000\n",
        "\n",
        "50%    31.500000  86.250000\n",
        "\n",
        "75%    35.000000  90.000000\n",
        "\n",
        "max    42.000000  92.000000\n",
        "\n",
        "In this example, the describe() function generates summary statistics for the Age and Score columns in the DataFrame."
      ],
      "metadata": {
        "id": "lhcNlSH5jqQI"
      }
    },
    {
      "cell_type": "markdown",
      "source": [
        "**13.Why is handling missing data important in Pandas?**"
      ],
      "metadata": {
        "id": "-F7_jzt0j05h"
      }
    },
    {
      "cell_type": "markdown",
      "source": [
        "**ANS**\n",
        "\n",
        "Handling missing data is crucial in Pandas because it can significantly impact the accuracy and reliability of data analysis and modeling. Missing data can arise due to various reasons such as:\n",
        "\n",
        "1. Data entry errors: Typos, incorrect formatting, or incomplete data entry can lead to missing values.\n",
        "2. Data collection issues: Missing data can occur due to problems with data collection instruments, such as faulty sensors or survey questions that are not applicable to all respondents.\n",
        "3. Data integration issues: When combining data from multiple sources, missing values can arise due to differences in data formats, structures, or coding schemes.\n",
        "\n",
        "Why is handling missing data important?\n",
        "\n",
        "1. Biased results: Missing data can lead to biased results, especially if the missing values are not missing completely at random (MCAR).\n",
        "2. Reduced accuracy: Missing data can reduce the accuracy of statistical models and machine learning algorithms, leading to poor predictions and decisions.\n",
        "3. Inefficient use of data: Missing data can result in the inefficient use of data, as some observations may be excluded from analysis due to missing values.\n",
        "4. Difficulty in data interpretation: Missing data can make it challenging to interpret the results of data analysis, as the missing values can affect the distribution of the data and the relationships between variables.\n",
        "\n",
        "How to handle missing data in Pandas?\n",
        "\n",
        "1. Detecting missing values: Use the isnull() or isna() functions to detect missing values in a DataFrame.\n",
        "2. Dropping missing values: Use the dropna() function to drop rows or columns with missing values.\n",
        "3. Filling missing values: Use the fillna() function to fill missing values with a specific value, such as the mean, median, or mode.\n",
        "4. Imputing missing values: Use techniques such as mean imputation, regression imputation, or multiple imputation to impute missing values.\n",
        "5. Using interpolation: Use interpolation techniques, such as linear or spline interpolation, to estimate missing values.\n",
        "\n",
        "Best practices for handling missing data\n",
        "\n",
        "1. Document missing data: Keep a record of missing data, including the number of missing values and the variables affected.\n",
        "2. Explore missing data: Use summary statistics and visualization techniques to understand the distribution of missing values and their relationships with other variables.\n",
        "3. Use multiple imputation: Use multiple imputation techniques to generate multiple versions of the dataset with imputed missing values.\n",
        "4. Validate imputed values: Validate the imputed values by comparing them with the observed values and checking for consistency with the data distribution.\n"
      ],
      "metadata": {
        "id": "_u_y9gM4j8zI"
      }
    },
    {
      "cell_type": "markdown",
      "source": [
        "**14.What are the benefits of using Plotly for data visualization?**"
      ],
      "metadata": {
        "id": "YjRIb8uFkHnR"
      }
    },
    {
      "cell_type": "markdown",
      "source": [
        "**ANS**\n",
        "\n",
        "Plotly is a popular data visualization library that offers a wide range of benefits for creating interactive, web-based visualizations. Here are some of the key benefits of using Plotly:\n",
        "\n",
        "Benefits of using Plotly:\n",
        "\n",
        "1. Interactive visualizations: Plotly allows you to create interactive visualizations that enable users to hover, zoom, and pan to explore data.\n",
        "2. Web-based visualizations: Plotly visualizations are web-based, making it easy to share and embed them in web applications, blogs, and presentations.\n",
        "3. Wide range of chart types: Plotly supports a wide range of chart types, including line charts, scatter plots, bar charts, histograms, and more.\n",
        "4. Customization options: Plotly provides a wide range of customization options, including colors, fonts, layouts, and more.\n",
        "5. Integration with popular data science libraries: Plotly integrates seamlessly with popular data science libraries, including Pandas, NumPy, and Scikit-learn.\n",
        "6. Support for 3D visualizations: Plotly supports 3D visualizations, enabling you to create interactive 3D plots and charts.\n",
        "7. Collaboration features: Plotly provides collaboration features, including real-time commenting and sharing, making it easy to work with others on data visualization projects.\n",
        "8. Extensive documentation and community support: Plotly has extensive documentation and community support, including tutorials, examples, and forums.\n",
        "9. Cross-platform compatibility: Plotly visualizations are cross-platform compatible, meaning they can be viewed on any device with a modern web browser.\n",
        "10. Free and open-source: Plotly is free and open-source, making it an accessible and affordable option for data visualization.\n",
        "\n",
        "Use cases for Plotly:\n",
        "\n",
        "1. Data exploration and analysis: Plotly is ideal for data exploration and analysis, enabling you to create interactive visualizations to understand and communicate insights.\n",
        "2. Business intelligence and reporting: Plotly is widely used in business intelligence and reporting, providing a powerful platform for creating interactive dashboards and reports.\n",
        "3. Scientific visualization: Plotly is used in scientific visualization to create interactive 3D visualizations of complex data, such as medical imaging and scientific simulations.\n",
        "4. Education and research: Plotly is used in education and research to create interactive visualizations for teaching and research purposes.\n",
        "\n",
        "Getting started with Plotly:\n",
        "\n",
        "1. Install Plotly: Install Plotly using pip or conda.\n",
        "2. Import Plotly: Import Plotly in your Python script or notebook.\n",
        "3. Create a figure: Create a figure using Plotly's fig object.\n",
        "4. Add traces: Add traces to the figure using Plotly's add_trace method.\n",
        "5. Customize the figure: Customize the figure using Plotly's various customization options."
      ],
      "metadata": {
        "id": "hbnPJ8f7kZJY"
      }
    },
    {
      "cell_type": "markdown",
      "source": [
        "**15.How does NumPy handle multidimensional arrays?**"
      ],
      "metadata": {
        "id": "6Nq-rLuEkckx"
      }
    },
    {
      "cell_type": "markdown",
      "source": [
        "**ANS**\n",
        "\n",
        "NumPy is designed to handle multidimensional arrays, also known as n-dimensional arrays or ndarrays. Here's how NumPy handles multidimensional arrays:\n",
        "\n",
        "Creating Multidimensional Arrays\n",
        "\n",
        "NumPy provides several ways to create multidimensional arrays, including:\n",
        "\n",
        "1. Using the numpy.array() function\n",
        "\n",
        "You can create a multidimensional array by passing a list of lists to the numpy.array() function.\n",
        "\n",
        "\n",
        "import numpy as np\n",
        "\n",
        "arr = np.array([[1, 2, 3], [4, 5, 6]])\n",
        "print(arr)\n",
        "\n",
        "\n",
        "Output:\n",
        "\n",
        "\n",
        "[[1 2 3]\n",
        " [4 5 6]]\n",
        "\n",
        "\n",
        "2. Using the numpy.zeros() or numpy.ones() functions\n",
        "\n",
        "You can create a multidimensional array filled with zeros or ones using the numpy.zeros() or numpy.ones() functions.\n",
        "\n",
        "\n",
        "arr = np.zeros((2, 3))\n",
        "print(arr)\n",
        "\n",
        "\n",
        "Output:\n",
        "\n",
        "\n",
        "[[0. 0. 0.]\n",
        " [0. 0. 0.]]\n",
        "\n",
        "\n",
        "3. Using the numpy.random.rand() function\n",
        "\n",
        "You can create a multidimensional array filled with random numbers using the numpy.random.rand() function.\n",
        "\n",
        "\n",
        "arr = np.random.rand(2, 3)\n",
        "print(arr)\n",
        "\n",
        "\n",
        "Output:\n",
        "\n",
        "\n",
        "[[0.5488135  0.71518937 0.60276338]\n",
        " [0.54488318 0.42364583 0.64589411]]\n",
        "\n",
        "\n",
        "Indexing and Slicing Multidimensional Arrays\n",
        "\n",
        "NumPy provides several ways to index and slice multidimensional arrays:\n",
        "\n",
        "1. Basic Indexing\n",
        "\n",
        "You can access elements of a multidimensional array using basic indexing.\n",
        "\n",
        "\n",
        "arr = np.array([[1, 2, 3], [4, 5, 6]])\n",
        "print(arr[0, 1])  # Output: 2\n",
        "\n",
        "\n",
        "2. Slice Indexing\n",
        "\n",
        "You can access slices of a multidimensional array using slice indexing.\n",
        "\n",
        "\n",
        "arr = np.array([[1, 2, 3], [4, 5, 6]])\n",
        "print(arr[0, 1:])  # Output: [2 3]\n",
        "\n",
        "\n",
        "3. Advanced Indexing\n",
        "\n",
        "You can access elements of a multidimensional array using advanced indexing.\n",
        "\n",
        "\n",
        "arr = np.array([[1, 2, 3], [4, 5, 6]])\n",
        "print(arr[[0, 1], [1, 2]])  # Output: [2 6]\n",
        "\n",
        "\n",
        "Operations on Multidimensional Arrays\n",
        "\n",
        "NumPy provides several operations that can be performed on multidimensional arrays:\n",
        "\n",
        "1. Basic Arithmetic Operations\n",
        "\n",
        "You can perform basic arithmetic operations on multidimensional arrays.\n",
        "\n",
        "\n",
        "arr1 = np.array([[1, 2, 3], [4, 5, 6]])\n",
        "arr2 = np.array([[7, 8, 9], [10, 11, 12]])\n",
        "print(arr1 + arr2)\n",
        "\n",
        "\n",
        "Output:\n",
        "\n",
        "\n",
        "[[ 8 10 12]\n",
        " [14 16 18]]\n",
        "\n",
        "\n",
        "2. Matrix Multiplication\n",
        "\n",
        "You can perform matrix multiplication on multidimensional arrays.\n",
        "\n",
        "\n",
        "arr1 = np.array([[1, 2], [3, 4]])\n",
        "arr2 = np.array([[5, 6], [7, 8]])\n",
        "print(np.matmul(arr1, arr2))\n",
        "\n",
        "\n",
        "Output:\n",
        "\n",
        "\n",
        "[[19 22]\n",
        " [43 50]]\n",
        "\n",
        "\n",
        "3. Transpose\n",
        "\n",
        "You can transpose a multidimensional array.\n",
        "\n",
        "\n",
        "arr = np.array([[1, 2, 3], [4, 5, 6]])\n",
        "print(arr.T)\n",
        "\n",
        "\n",
        "Output:\n",
        "\n",
        "\n",
        "[[1 4]\n",
        " [2 5]\n",
        " [3 6]]\n",
        "\n",
        "\n",
        "Reshaping and Transposing Multidimensional Arrays\n",
        "\n",
        "NumPy provides several functions to reshape and transpose multidimensional arrays:\n",
        "\n",
        "1. Reshape\n",
        "\n",
        "You can reshape a multidimensional array using the reshape() function.\n",
        "\n",
        "\n",
        "arr = np.array([1, 2, 3, 4, 5, 6])\n",
        "print(arr.reshape(2, 3))\n",
        "\n",
        "\n",
        "Output:\n",
        "\n",
        "\n",
        "[[1 2 3]\n",
        " [4 5 6]]\n",
        "\n",
        "\n",
        "2. Transpose\n",
        "\n",
        "You can transpose a multidimensional array using the transpose() function or the .T attribute.\n",
        "\n",
        "\n",
        "arr = np.array([[1, 2, 3], [4, 5, 6]])\n",
        "print(arr.T)\n",
        "\n",
        "\n",
        "Output:\n",
        "\n",
        "\n",
        "[[1 4]\n",
        " [2 5]\n",
        " [3 6]]\n",
        "\n"
      ],
      "metadata": {
        "id": "rFMEB4SklEom"
      }
    },
    {
      "cell_type": "markdown",
      "source": [
        "**16.What is the role of Bokeh in data visualization?**"
      ],
      "metadata": {
        "id": "032vJTvIlPCG"
      }
    },
    {
      "cell_type": "markdown",
      "source": [
        "**ANS**\n",
        "\n",
        "Bokeh is a popular Python library for creating interactive, web-based visualizations. It provides a high-level interface for creating a wide range of charts, plots, and graphs, making it an ideal tool for data visualization.\n",
        "\n",
        "Role of Bokeh in Data Visualization:\n",
        "\n",
        "1. Interactive Visualizations: Bokeh allows you to create interactive visualizations that enable users to hover, zoom, and pan to explore data.\n",
        "2. Web-based Visualizations: Bokeh visualizations are web-based, making it easy to share and embed them in web applications, blogs, and presentations.\n",
        "3. Customizable: Bokeh provides a wide range of customization options, including colors, fonts, layouts, and more.\n",
        "4. High-Level Interface: Bokeh provides a high-level interface for creating visualizations, making it easy to use, even for those without extensive programming experience.\n",
        "5. Integration with Other Libraries: Bokeh integrates seamlessly with other popular Python libraries, including Pandas, NumPy, and Scikit-learn.\n",
        "\n",
        "Key Features of Bokeh:\n",
        "\n",
        "1. Plotting: Bokeh provides a wide range of plotting tools, including line plots, scatter plots, bar charts, histograms, and more.\n",
        "2. Widgets: Bokeh provides a range of widgets, including sliders, dropdown menus, and buttons, that can be used to create interactive visualizations.\n",
        "3. Layouts: Bokeh provides a range of layouts, including grid layouts, row layouts, and column layouts, that can be used to create complex visualizations.\n",
        "4. Tools: Bokeh provides a range of tools, including hover tools, zoom tools, and pan tools, that can be used to create interactive visualizations.\n",
        "\n",
        "Use Cases for Bokeh:\n",
        "\n",
        "1. Data Exploration: Bokeh is ideal for data exploration, enabling users to quickly and easily create interactive visualizations to understand and communicate insights.\n",
        "2. Business Intelligence: Bokeh is widely used in business intelligence, providing a powerful platform for creating interactive dashboards and reports.\n",
        "3. Scientific Visualization: Bokeh is used in scientific visualization to create interactive 3D visualizations of complex data, such as medical imaging and scientific simulations.\n",
        "4. Education: Bokeh is used in education to create interactive visualizations for teaching and learning purposes.\n",
        "\n",
        "Getting Started with Bokeh:\n",
        "\n",
        "1. Install Bokeh: Install Bokeh using pip or conda.\n",
        "2. Import Bokeh: Import Bokeh in your Python script or notebook.\n",
        "3. Create a Figure: Create a figure using Bokeh's figure() function.\n",
        "4. Add Plots: Add plots to the figure using Bokeh's various plotting tools.\n",
        "5. Customize: Customize the figure and plots using Bokeh's various customization options."
      ],
      "metadata": {
        "id": "rMWAj5nclWPG"
      }
    },
    {
      "cell_type": "markdown",
      "source": [
        "**17.Explain the difference between apply() and map() in Pandas**"
      ],
      "metadata": {
        "id": "y2UCP7LkljM2"
      }
    },
    {
      "cell_type": "markdown",
      "source": [
        "**ANS**\n",
        "\n",
        "In Pandas, apply() and map() are two popular functions used to perform operations on DataFrames and Series. While they share some similarities, there are key differences between them.\n",
        "\n",
        "Apply()\n",
        "\n",
        "apply() is a flexible function that applies a function along an axis of a DataFrame or Series. It can be used to perform various operations, such as:\n",
        "\n",
        "- Applying a custom function to each row or column\n",
        "- Performing aggregation operations, like sum or mean\n",
        "- Transforming data using a function\n",
        "\n",
        "The general syntax of apply() is:\n",
        "\n",
        "df.apply(func, axis=0, broadcast=False, raw=False, reduce=None)\n",
        "\n",
        "Here, func is the function to be applied, axis specifies the axis along which to apply the function (0 for columns, 1 for rows), and other parameters control the behavior of the function.\n",
        "\n",
        "Map()\n",
        "\n",
        "map() is a function that applies a function element-wise to a Series or DataFrame. It is similar to apply(), but with some key differences:\n",
        "\n",
        "- map() is designed for element-wise operations, whereas apply() can perform operations on entire rows or columns.\n",
        "- map() is generally faster than apply() because it avoids the overhead of creating a new DataFrame or Series.\n",
        "\n",
        "The general syntax of map() is:\n",
        "\n",
        "series.map(func)\n",
        "\n",
        "Here, func is the function to be applied to each element of the Series.\n",
        "\n",
        "Key differences\n",
        "\n",
        "1. Axis: apply() can operate along either axis (0 or 1), while map() only operates element-wise on a Series.\n",
        "2. Function application: apply() applies a function to entire rows or columns, while map() applies a function element-wise to each element of a Series.\n",
        "3. Performance: map() is generally faster than apply() for element-wise operations.\n",
        "4. Output: apply() returns a new DataFrame or Series, while map() returns a new Series with the transformed values.\n",
        "\n",
        "When to use each\n",
        "\n",
        "1. Use apply() when:\n",
        "    - You need to perform an operation on entire rows or columns.\n",
        "    - You need to perform an aggregation operation, like sum or mean.\n",
        "    - You need to transform data using a custom function.\n",
        "2. Use map() when:\n",
        "    - You need to perform an element-wise operation on a Series.\n",
        "    - You need to transform data using a simple function, like converting data types.\n",
        "\n",
        "In summary, apply() is a more general-purpose function that can perform various operations on DataFrames and Series, while map() is optimized for element-wise operations on Series."
      ],
      "metadata": {
        "id": "k0MT1HL5lqIG"
      }
    },
    {
      "cell_type": "markdown",
      "source": [
        "**18.What are some advanced features of NumPy?**"
      ],
      "metadata": {
        "id": "aP94UDPul6YW"
      }
    },
    {
      "cell_type": "markdown",
      "source": [
        "**ANS**\n",
        "\n",
        "NumPy is a powerful library for numerical computing in Python, and it has many advanced features that can help you optimize your code and perform complex operations. Here are some advanced features of NumPy:\n",
        "\n",
        "1. Broadcasting\n",
        "\n",
        "Broadcasting is a powerful feature in NumPy that allows you to perform operations on arrays with different shapes and sizes. It works by aligning the arrays based on their shapes and sizes, and then performing the operation element-wise.\n",
        "\n",
        "2. Vectorized Operations\n",
        "\n",
        "Vectorized operations are operations that are performed on entire arrays at once, rather than on individual elements. This can greatly speed up your code, especially for large arrays.\n",
        "\n",
        "3. Advanced Indexing\n",
        "\n",
        "Advanced indexing in NumPy allows you to access and manipulate specific parts of an array using a variety of techniques, including boolean indexing, fancy indexing, and label-based indexing.\n",
        "\n",
        "4. Linear Algebra Operations\n",
        "\n",
        "NumPy has a wide range of linear algebra operations, including matrix multiplication, matrix inverse, determinant, and eigenvalues.\n",
        "\n",
        "5. Random Number Generation\n",
        "\n",
        "NumPy has a range of functions for generating random numbers, including uniform, normal, and binomial distributions.\n",
        "\n",
        "6. Polynomials\n",
        "\n",
        "NumPy has a range of functions for working with polynomials, including polynomial multiplication, division, and root finding.\n",
        "\n",
        "7. Fourier Transform\n",
        "\n",
        "NumPy has a range of functions for performing Fourier transforms, including the Fast Fourier Transform (FFT) and the Discrete Fourier Transform (DFT).\n",
        "\n",
        "8. Matrix Decompositions\n",
        "\n",
        "NumPy has a range of functions for performing matrix decompositions, including Singular Value Decomposition (SVD), Eigenvalue Decomposition, and Cholesky Decomposition.\n",
        "\n",
        "9. Sparse Matrices\n",
        "\n",
        "NumPy has a range of functions for working with sparse matrices, including sparse matrix multiplication and sparse matrix inverse.\n",
        "\n",
        "10. Advanced Statistical Functions\n",
        "\n",
        "NumPy has a range of advanced statistical functions, including functions for calculating the mean, median, mode, standard deviation, and variance of an array.\n",
        "\n",
        "Here is an example of using some of these advanced features:\n",
        "\n",
        "\n",
        "import numpy as np\n",
        "\n",
        "# Create a 2D array\n",
        "arr = np.array([[1, 2, 3], [4, 5, 6]])\n",
        "\n",
        "# Use broadcasting to add 1 to each element of the array\n",
        "arr += 1\n",
        "print(arr)\n",
        "\n",
        "# Use vectorized operations to square each element of the array\n",
        "arr = arr ** 2\n",
        "print(arr)\n",
        "\n",
        "# Use advanced indexing to access the second row of the array\n",
        "print(arr[1, :])\n",
        "\n",
        "# Use linear algebra operations to calculate the matrix product of the array with itself\n",
        "arr = np.dot(arr, arr)\n",
        "print(arr)\n",
        "\n",
        "\n",
        "This code creates a 2D array, uses broadcasting to add 1 to each element, uses vectorized operations to square each element, uses advanced indexing to access the second row, and uses linear algebra operations to calculate the matrix product of the array with itself."
      ],
      "metadata": {
        "id": "9qwAhxjEmIEe"
      }
    },
    {
      "cell_type": "markdown",
      "source": [
        "**19. How does Pandas simplify time series analysis?**"
      ],
      "metadata": {
        "id": "w3C2DOuPmRQO"
      }
    },
    {
      "cell_type": "markdown",
      "source": [
        "**ANS**\n",
        "\n",
        "Pandas is a powerful library in Python that provides data structures and functions to efficiently handle structured data, including time series data. Pandas simplifies time series analysis in several ways:\n",
        "\n",
        "Handling Dates and Times\n",
        "\n",
        "Pandas provides an efficient and intuitive way to work with dates and times. It supports various date and time formats, including timestamps, periods, and time deltas.\n",
        "\n",
        "Time Series Data Structures\n",
        "\n",
        "Pandas provides two primary data structures for time series analysis:\n",
        "\n",
        "1. Series: A one-dimensional labeled array of values, where the index is typically a date or time range.\n",
        "2. DataFrame: A two-dimensional labeled data structure with columns of potentially different types, where the index can be a date or time range.\n",
        "\n",
        "Time Series Functions\n",
        "\n",
        "Pandas offers various functions for time series analysis, including:\n",
        "\n",
        "1. Resampling: Resample time series data to change the frequency of observations.\n",
        "2. Rolling: Perform rolling window calculations, such as mean, sum, or standard deviation.\n",
        "3. Expanding: Perform expanding window calculations, such as mean, sum, or standard deviation.\n",
        "4. Time shifting: Shift time series data by a specified time period.\n",
        "5. Time zone conversions: Convert time series data between different time zones.\n",
        "\n",
        "Data Alignment\n",
        "\n",
        "Pandas automatically aligns time series data based on their indices, making it easy to perform operations like merging, joining, or grouping data.\n",
        "\n",
        "Missing Data Handling\n",
        "\n",
        "Pandas provides various options for handling missing data in time series, including:\n",
        "\n",
        "1. Forward filling: Fill missing values with the previous value.\n",
        "2. Backward filling: Fill missing values with the next value.\n",
        "3. Interpolation: Fill missing values using interpolation methods like linear or polynomial interpolation.\n",
        "\n",
        "Example\n",
        "\n",
        "Here's an example of using Pandas for time series analysis:\n",
        "\n",
        "import pandas as pd\n",
        "\n",
        "# Create a sample time series\n",
        "data = {'Date': ['2022-01-01', '2022-01-02', '2022-01-03'],\n",
        "        'Value': [10, 20, 30]}\n",
        "df = pd.DataFrame(data)\n",
        "\n",
        "# Convert the 'Date' column to datetime format\n",
        "df['Date'] = pd.to_datetime(df['Date'])\n",
        "\n",
        "# Set the 'Date' column as the index\n",
        "df.set_index('Date', inplace=True)\n",
        "\n",
        "# Resample the data to daily frequency\n",
        "df_resampled = df.resample('D').mean()\n",
        "\n",
        "# Calculate the rolling mean with a window of 3 days\n",
        "df_rolling_mean = df_resampled.rolling(window=3).mean()\n",
        "\n",
        "print(df_rolling_mean)\n",
        "\n",
        "This example demonstrates how Pandas simplifies time series analysis by providing efficient data structures and functions for handling dates and times, resampling, rolling window calculations, and missing data handling."
      ],
      "metadata": {
        "id": "S7N24kTOmcWu"
      }
    },
    {
      "cell_type": "markdown",
      "source": [
        "**20. What is the role of a pivot table in Pandas?**"
      ],
      "metadata": {
        "id": "kULJeWH_meyG"
      }
    },
    {
      "cell_type": "markdown",
      "source": [
        "**ANS**\n",
        "\n",
        "A pivot table is a powerful data summarization tool in Pandas that allows you to transform and analyze data by creating custom views of your data. It's a great way to summarize, aggregate, and analyze large datasets.\n",
        "\n",
        "Role of a Pivot Table in Pandas:\n",
        "\n",
        "1. Data Summarization: Pivot tables help you summarize your data by grouping it by specific columns and applying aggregation functions, such as sum, mean, or count.\n",
        "2. Data Transformation: Pivot tables enable you to transform your data from a long format to a wide format, making it easier to analyze and visualize.\n",
        "3. Custom Views: Pivot tables allow you to create custom views of your data by selecting specific columns, rows, and aggregation functions.\n",
        "4. Data Analysis: Pivot tables facilitate data analysis by enabling you to easily compare and contrast different groups of data.\n",
        "\n",
        "How to Create a Pivot Table in Pandas:\n",
        "\n",
        "To create a pivot table in Pandas, you can use the pivot_table() function, which takes the following arguments:\n",
        "\n",
        "- data: The DataFrame you want to pivot.\n",
        "- values: The column(s) you want to aggregate.\n",
        "- index: The column(s) you want to use as the index.\n",
        "- columns: The column(s) you want to use as the columns.\n",
        "- aggfunc: The aggregation function you want to apply (e.g., sum, mean, count).\n",
        "\n",
        "Here's an example:\n",
        "\n",
        "import pandas as pd\n",
        "\n",
        "# Create a sample DataFrame\n",
        "data = {'Category': ['A', 'B', 'A', 'B', 'A', 'B'],\n",
        "        'Subcategory': ['X', 'Y', 'X', 'Y', 'X', 'Y'],\n",
        "        'Sales': [10, 20, 30, 40, 50, 60]}\n",
        "df = pd.DataFrame(data)\n",
        "\n",
        "# Create a pivot table\n",
        "pivot_table = pd.pivot_table(df, values='Sales', index='Category', columns='Subcategory', aggfunc='sum')\n",
        "\n",
        "print(pivot_table)\n",
        "\n",
        "Output:\n",
        "\n",
        "Subcategory  X   Y\n",
        "Category            \n",
        "A          90  120\n",
        "B          60  100\n",
        "\n",
        "In this example, the pivot table summarizes the sales data by category and subcategory, using the sum aggregation function."
      ],
      "metadata": {
        "id": "o_uGo9XTmmne"
      }
    },
    {
      "cell_type": "markdown",
      "source": [
        "**21. Why is NumPy’s array slicing faster than Python’s list slicing?**"
      ],
      "metadata": {
        "id": "o6kFToDinH2G"
      }
    },
    {
      "cell_type": "markdown",
      "source": [
        "ANS\n",
        "\n",
        "NumPy's array slicing is faster than Python's list slicing for several reasons:\n",
        "\n",
        "Reasons for Speed Difference\n",
        "\n",
        "1. Memory Layout\n",
        "\n",
        "NumPy arrays store elements in a contiguous block of memory, which allows for efficient slicing. In contrast, Python lists store elements as separate objects, which can lead to slower slicing.\n",
        "\n",
        "2. Cache Efficiency\n",
        "\n",
        "NumPy's contiguous memory layout also improves cache efficiency. When slicing a NumPy array, the CPU can access elements in a predictable and sequential manner, reducing cache misses.\n",
        "\n",
        "3. Vectorized Operations\n",
        "\n",
        "NumPy's slicing operations are implemented using vectorized operations, which are optimized for performance. Vectorized operations perform the same operation on multiple elements simultaneously, reducing the overhead of Python's interpreter.\n",
        "\n",
        "4. C Implementation\n",
        "\n",
        "Many NumPy functions, including slicing, are implemented in C, which provides a significant performance boost compared to Python's interpreter.\n",
        "\n",
        "5. Avoiding Python Object Creation\n",
        "\n",
        "When slicing a NumPy array, a new array object is created, but the underlying data is not copied. In contrast, slicing a Python list creates a new list object and copies the elements, which can be slower.\n",
        "\n",
        "6. Optimized Algorithms\n",
        "\n",
        "NumPy's slicing algorithms are optimized for performance, taking into account the array's shape, size, and data type.\n",
        "\n",
        "Benchmarking Example\n",
        "\n",
        "Here's a simple benchmarking example to demonstrate the speed difference:\n",
        "\n",
        "\n",
        "import numpy as np\n",
        "import time\n",
        "\n",
        "# Create a large NumPy array and Python list\n",
        "arr = np.arange(1000000)\n",
        "lst = list(range(1000000))\n",
        "\n",
        "# Time NumPy array slicing\n",
        "start = time.time()\n",
        "arr_slice = arr[100000:200000]\n",
        "end = time.time()\n",
        "print(f\"NumPy array slicing time: {end - start:.6f} seconds\")\n",
        "\n",
        "# Time Python list slicing\n",
        "start = time.time()\n",
        "lst_slice = lst[100000:200000]\n",
        "end = time.time()\n",
        "print(f\"Python list slicing time: {end - start:.6f} seconds\")\n",
        "\n",
        "\n",
        "This example creates a large NumPy array and Python list, then times how long it takes to slice each one. The results will show that NumPy's array slicing is significantly faster than Python's list slicing."
      ],
      "metadata": {
        "id": "CHAroBslnZLO"
      }
    },
    {
      "cell_type": "markdown",
      "source": [
        "**22.What are some common use cases for Seaborn?**"
      ],
      "metadata": {
        "id": "hlo78dHqneXF"
      }
    },
    {
      "cell_type": "markdown",
      "source": [
        "**ANS**\n",
        "\n",
        "Seaborn is a powerful Python visualization library built on top of Matplotlib. It provides a high-level interface for creating attractive and informative statistical graphics. Here are some common use cases for Seaborn:\n",
        "\n",
        "1. Exploratory Data Analysis (EDA)\n",
        "\n",
        "Seaborn is ideal for EDA, allowing you to quickly visualize and understand the distribution of your data, relationships between variables, and identify patterns and outliers.\n",
        "\n",
        "2. Statistical Graphics\n",
        "\n",
        "Seaborn provides a range of statistical graphics, including regression plots, box plots, violin plots, and scatter plots, making it easy to visualize and communicate statistical insights.\n",
        "\n",
        "3. Data Visualization for Machine Learning\n",
        "\n",
        "Seaborn is widely used in machine learning for visualizing data, understanding model performance, and identifying areas for improvement.\n",
        "\n",
        "4. Research and Academia\n",
        "\n",
        "Seaborn is popular in research and academia for creating publication-quality visualizations, facilitating the communication of complex research findings.\n",
        "\n",
        "5. Business Intelligence and Reporting\n",
        "\n",
        "Seaborn can be used to create interactive and dynamic visualizations for business intelligence and reporting, helping organizations make data-driven decisions.\n",
        "\n",
        "6. Web Applications and Dashboards\n",
        "\n",
        "Seaborn can be integrated into web applications and dashboards, providing users with interactive and dynamic visualizations.\n",
        "\n",
        "7. Education and Training\n",
        "\n",
        "Seaborn is often used in educational settings to teach data visualization, statistical analysis, and data science concepts.\n",
        "\n",
        "Some popular Seaborn plots include:\n",
        "\n",
        "- lmplot(): Linear regression plot\n",
        "- boxplot(): Box plot\n",
        "- violinplot(): Violin plot\n",
        "- stripplot(): Strip plot\n",
        "- swarmplot(): Swarm plot\n",
        "- heatmap(): Heatmap\n",
        "- pairplot(): Pair plot\n",
        "\n",
        "These plots can be customized and combined to create complex and informative visualizations."
      ],
      "metadata": {
        "id": "BPK9s0cUnl6u"
      }
    },
    {
      "cell_type": "markdown",
      "source": [
        "# **practical**"
      ],
      "metadata": {
        "id": "RS6wfs09oVQG"
      }
    },
    {
      "cell_type": "markdown",
      "source": [
        "**1.How do you create a 2D NumPy array and calculate the sum of each row?**"
      ],
      "metadata": {
        "id": "dDD4bmjZools"
      }
    },
    {
      "cell_type": "code",
      "source": [
        "#Here's how you can create a 2D NumPy array and calculate the sum of each row:\n",
        "\n",
        "#Creating a 2D NumPy Array\n",
        "\n",
        "#To create a 2D NumPy array, you can use the numpy.array() function, passing a list of lists as the argument:\n",
        "\n",
        "\n",
        "import numpy as np\n",
        "\n",
        "# Create a 2D NumPy array\n",
        "array_2d = np.array([[1, 2, 3], [4, 5, 6], [7, 8, 9]])\n",
        "\n",
        "print(array_2d)\n",
        "\n",
        "\n",
        "#Output:\n",
        "\n",
        "\n",
        "\"\"\"[[1 2 3]\n",
        " [4 5 6]\n",
        " [7 8 9]]\"\"\"\n",
        "\n",
        "\n",
        "#Calculating the Sum of Each Row\n",
        "\n",
        "#To calculate the sum of each row in the 2D NumPy array, you can use the numpy.sum() function with the axis=1 argument:\n",
        "\n",
        "\n",
        "# Calculate the sum of each row\n",
        "row_sums = np.sum(array_2d, axis=1)\n",
        "\n",
        "print(row_sums)\n",
        "\n",
        "\n",
        "#Output:\n",
        "\n",
        "\n",
        "#[6 15 24]\n"
      ],
      "metadata": {
        "id": "MCk2bh2eeKda",
        "colab": {
          "base_uri": "https://localhost:8080/"
        },
        "outputId": "c9869d40-81f3-41a4-905e-239904fe222e"
      },
      "execution_count": 2,
      "outputs": [
        {
          "output_type": "stream",
          "name": "stdout",
          "text": [
            "[[1 2 3]\n",
            " [4 5 6]\n",
            " [7 8 9]]\n",
            "[ 6 15 24]\n"
          ]
        }
      ]
    },
    {
      "cell_type": "markdown",
      "source": [
        "**2. Write a Pandas script to find the mean of a specific column in a DataFrame?**"
      ],
      "metadata": {
        "id": "4yYl9CiDpwPF"
      }
    },
    {
      "cell_type": "code",
      "source": [
        "#Here's a simple Pandas script that calculates the mean of a specific column in a DataFrame:\n",
        "\n",
        "\n",
        "# Import the Pandas library\n",
        "import pandas as pd\n",
        "\n",
        "# Create a sample DataFrame\n",
        "data = {\n",
        "    'Name': ['John', 'Anna', 'Peter', 'Linda'],\n",
        "    'Age': [28, 24, 35, 32],\n",
        "    'Score': [85, 90, 78, 92]\n",
        "}\n",
        "df = pd.DataFrame(data)\n",
        "\n",
        "# Print the original DataFrame\n",
        "print(\"Original DataFrame:\")\n",
        "print(df)\n",
        "\n",
        "# Calculate the mean of the 'Score' column\n",
        "mean_score = df['Score'].mean()\n",
        "\n",
        "# Print the mean score\n",
        "print(\"\\nMean Score:\", mean_score)\n",
        "\n"
      ],
      "metadata": {
        "colab": {
          "base_uri": "https://localhost:8080/"
        },
        "id": "3syo2zZopTH2",
        "outputId": "b446a407-b19d-44fa-8275-e443149ddd7b"
      },
      "execution_count": 3,
      "outputs": [
        {
          "output_type": "stream",
          "name": "stdout",
          "text": [
            "Original DataFrame:\n",
            "    Name  Age  Score\n",
            "0   John   28     85\n",
            "1   Anna   24     90\n",
            "2  Peter   35     78\n",
            "3  Linda   32     92\n",
            "\n",
            "Mean Score: 86.25\n"
          ]
        }
      ]
    },
    {
      "cell_type": "markdown",
      "source": [
        "**3.Create a scatter plot using Matplotlib**"
      ],
      "metadata": {
        "id": "DFMf8p1BqIbz"
      }
    },
    {
      "cell_type": "code",
      "source": [
        "#Here's an example of how to create a scatter plot using Matplotlib:\n",
        "\n",
        "\n",
        "# Import the Matplotlib library\n",
        "import matplotlib.pyplot as plt\n",
        "\n",
        "# Import the NumPy library for generating random data\n",
        "import numpy as np\n",
        "\n",
        "# Generate random x and y data\n",
        "np.random.seed(0)\n",
        "x = np.random.rand(50)\n",
        "y = np.random.rand(50)\n",
        "\n",
        "# Create the scatter plot\n",
        "plt.scatter(x, y)\n",
        "\n",
        "# Add title and labels\n",
        "plt.title('Scatter Plot Example')\n",
        "plt.xlabel('X Axis')\n",
        "plt.ylabel('Y Axis')\n",
        "\n",
        "# Display the plot\n",
        "plt.show()\n"
      ],
      "metadata": {
        "colab": {
          "base_uri": "https://localhost:8080/",
          "height": 472
        },
        "id": "uiNzdj1bqCf8",
        "outputId": "fbb52a9c-acfe-4e84-dcaa-0a0193f8281f"
      },
      "execution_count": 4,
      "outputs": [
        {
          "output_type": "display_data",
          "data": {
            "text/plain": [
              "<Figure size 640x480 with 1 Axes>"
            ],
            "image/png": "[encoded data removed]"
          },
          "metadata": {}
        }
      ]
    },
    {
      "cell_type": "markdown",
      "source": [
        "This code generates a scatter plot with 50 random data points. You can customize the plot as needed by adding more features, such as:\n",
        "\n",
        "- Different marker styles: plt.scatter(x, y, marker='o') for circles, plt.scatter(x, y, marker='s') for squares, etc.\n",
        "- Different colors: plt.scatter(x, y, c='red') for red markers, plt.scatter(x, y, c='blue') for blue markers, etc.\n",
        "- Different sizes: plt.scatter(x, y, s=100) for larger markers, plt.scatter(x, y, s=10) for smaller markers, etc.\n",
        "\n",
        "You can also customize the plot's appearance by using various options available in the plt.scatter() function."
      ],
      "metadata": {
        "id": "6hV2Y5VRqpS0"
      }
    },
    {
      "cell_type": "code",
      "source": [
        "#Customizing the Scatter Plot\n",
        "\n",
        "#Here's an example of a customized scatter plot:\n",
        "\n",
        "\n",
        "# Import the Matplotlib library\n",
        "import matplotlib.pyplot as plt\n",
        "\n",
        "# Import the NumPy library for generating random data\n",
        "import numpy as np\n",
        "\n",
        "# Generate random x and y data\n",
        "np.random.seed(0)\n",
        "x = np.random.rand(50)\n",
        "y = np.random.rand(50)\n",
        "\n",
        "# Create the scatter plot with customization\n",
        "plt.scatter(x, y, marker='o', c='blue', s=100, alpha=0.5)\n",
        "\n",
        "# Add title and labels\n",
        "plt.title('Customized Scatter Plot')\n",
        "plt.xlabel('X Axis')\n",
        "plt.ylabel('Y Axis')\n",
        "\n",
        "# Set the x and y axis limits\n",
        "plt.xlim(0, 1)\n",
        "plt.ylim(0, 1)\n",
        "\n",
        "# Display the grid\n",
        "plt.grid(True)\n",
        "\n",
        "# Display the plot\n",
        "plt.show()\n",
        "\n",
        "\n",
        "\"\"\"This customized scatter plot has:\n",
        "\n",
        "- Blue circles (marker='o', c='blue') as markers\n",
        "- Larger marker size (s=100)\n",
        "- 50% transparency (alpha=0.5)\n",
        "- Customized x and y axis limits (plt.xlim(), plt.ylim())\n",
        "- A grid displayed in the background (plt.grid(True))\n",
        "\n",
        "You can experiment with different customization options to create the desired appearance for your scatter plot.\"\"\""
      ],
      "metadata": {
        "colab": {
          "base_uri": "https://localhost:8080/",
          "height": 525
        },
        "id": "WEE4GC1cqmbd",
        "outputId": "5219abc9-28e7-4645-9cb9-67e988b45c02"
      },
      "execution_count": 5,
      "outputs": [
        {
          "output_type": "display_data",
          "data": {
            "text/plain": [
              "<Figure size 640x480 with 1 Axes>"
            ],
            "image/png": "[encoded data removed]"
          },
          "metadata": {}
        },
        {
          "output_type": "execute_result",
          "data": {
            "text/plain": [
              "\"This customized scatter plot has:\\n\\n- Blue circles (marker='o', c='blue') as markers\\n- Larger marker size (s=100)\\n- 50% transparency (alpha=0.5)\\n- Customized x and y axis limits (plt.xlim(), plt.ylim())\\n- A grid displayed in the background (plt.grid(True))\\n\\nYou can experiment with different customization options to create the desired appearance for your scatter plot.\""
            ],
            "application/vnd.google.colaboratory.intrinsic+json": {
              "type": "string"
            }
          },
          "metadata": {},
          "execution_count": 5
        }
      ]
    },
    {
      "cell_type": "markdown",
      "source": [
        "**4. How do you calculate the correlation matrix using Seaborn and visualize it with a heatmap?**"
      ],
      "metadata": {
        "id": "xnM-vdlhqe4b"
      }
    },
    {
      "cell_type": "code",
      "source": [
        "#Calculating the correlation matrix and visualizing it with a heatmap can be done using Seaborn and Pandas. Here's an example:\n",
        "\n",
        "#Step 1: Import necessary libraries\n",
        "\n",
        "import seaborn as sns\n",
        "import matplotlib.pyplot as plt\n",
        "import pandas as pd\n",
        "import numpy as np\n",
        "\n",
        "\n",
        "#Step 2: Load the dataset\n",
        "\n",
        "# Load the dataset (e.g., iris dataset)\n",
        "from sklearn.datasets import load_iris\n",
        "iris = load_iris()\n",
        "df = pd.DataFrame(data=iris.data, columns=iris.feature_names)\n",
        "\n",
        "\n",
        "#Step 3: Calculate the correlation matrix\n",
        "\n",
        "# Calculate the correlation matrix\n",
        "corr_matrix = df.corr()\n",
        "\n",
        "\n",
        "#Step 4: Visualize the correlation matrix with a heatmap\n",
        "\n",
        "# Create a heatmap\n",
        "plt.figure(figsize=(8, 6))\n",
        "sns.heatmap(corr_matrix, annot=True, cmap='coolwarm', square=True)\n",
        "plt.title('Correlation Matrix')\n",
        "plt.show()\n"
      ],
      "metadata": {
        "colab": {
          "base_uri": "https://localhost:8080/",
          "height": 653
        },
        "id": "locNbs-1qcoF",
        "outputId": "2589cf30-1156-47d6-9f6c-79a863490ad7"
      },
      "execution_count": 6,
      "outputs": [
        {
          "output_type": "display_data",
          "data": {
            "text/plain": [
              "<Figure size 800x600 with 2 Axes>"
            ],
            "image/png": "[encoded data removed]"
          },
          "metadata": {}
        }
      ]
    },
    {
      "cell_type": "markdown",
      "source": [
        "**5.Generate a bar plot using Plotly**"
      ],
      "metadata": {
        "id": "eibtG_XPrXp7"
      }
    },
    {
      "cell_type": "code",
      "source": [
        "#Here's an example of how to generate a bar plot using Plotly:\n",
        "\n",
        "\n",
        "# Import the Plotly library\n",
        "import plotly.express as px\n",
        "import pandas as pd\n",
        "\n",
        "# Create a sample dataset\n",
        "data = {\n",
        "    'Category': ['A', 'B', 'C', 'D', 'E'],\n",
        "    'Values': [10, 15, 7, 12, 20]\n",
        "}\n",
        "df = pd.DataFrame(data)\n",
        "\n",
        "# Create a bar plot\n",
        "fig = px.bar(df, x='Category', y='Values', title='Bar Plot Example')\n",
        "\n",
        "# Display the plot\n",
        "fig.show()\n"
      ],
      "metadata": {
        "colab": {
          "base_uri": "https://localhost:8080/",
          "height": 542
        },
        "id": "UBT73YdRrSnd",
        "outputId": "a72f2841-06c9-4e41-f23b-e2b4eb101dd7"
      },
      "execution_count": 7,
      "outputs": [
        {
          "output_type": "display_data",
          "data": {
            "text/html": [
              "<html>\n",
              "<head><meta charset=\"utf-8\" /></head>\n",
              "<body>\n",
              "    <div>            <script src=\"https://cdnjs.cloudflare.com/ajax/libs/mathjax/2.7.5/MathJax.js?config=TeX-AMS-MML_SVG\"></script><script type=\"text/javascript\">if (window.MathJax && window.MathJax.Hub && window.MathJax.Hub.Config) {window.MathJax.Hub.Config({SVG: {font: \"STIX-Web\"}});}</script>                <script type=\"text/javascript\">window.PlotlyConfig = {MathJaxConfig: 'local'};</script>\n",
              "        <script charset=\"utf-8\" src=\"https://cdn.plot.ly/plotly-2.35.2.min.js\"></script>                <div id=\"3afb830c-a6c9-4964-8a01-aa17fce32838\" class=\"plotly-graph-div\" style=\"height:525px; width:100%;\"></div>            <script type=\"text/javascript\">                                    window.PLOTLYENV=window.PLOTLYENV || {};                                    if (document.getElementById(\"3afb830c-a6c9-4964-8a01-aa17fce32838\")) {                    Plotly.newPlot(                        \"3afb830c-a6c9-4964-8a01-aa17fce32838\",                        [{\"alignmentgroup\":\"True\",\"hovertemplate\":\"Category=%{x}\\u003cbr\\u003eValues=%{y}\\u003cextra\\u003e\\u003c\\u002fextra\\u003e\",\"legendgroup\":\"\",\"marker\":{\"color\":\"#636efa\",\"pattern\":{\"shape\":\"\"}},\"name\":\"\",\"offsetgroup\":\"\",\"orientation\":\"v\",\"showlegend\":false,\"textposition\":\"auto\",\"x\":[\"A\",\"B\",\"C\",\"D\",\"E\"],\"xaxis\":\"x\",\"y\":[10,15,7,12,20],\"yaxis\":\"y\",\"type\":\"bar\"}],                        {\"template\":{\"data\":{\"histogram2dcontour\":[{\"type\":\"histogram2dcontour\",\"colorbar\":{\"outlinewidth\":0,\"ticks\":\"\"},\"colorscale\":[[0.0,\"#0d0887\"],[0.1111111111111111,\"#46039f\"],[0.2222222222222222,\"#7201a8\"],[0.3333333333333333,\"#9c179e\"],[0.4444444444444444,\"#bd3786\"],[0.5555555555555556,\"#d8576b\"],[0.6666666666666666,\"#ed7953\"],[0.7777777777777778,\"#fb9f3a\"],[0.8888888888888888,\"#fdca26\"],[1.0,\"#f0f921\"]]}],\"choropleth\":[{\"type\":\"choropleth\",\"colorbar\":{\"outlinewidth\":0,\"ticks\":\"\"}}],\"histogram2d\":[{\"type\":\"histogram2d\",\"colorbar\":{\"outlinewidth\":0,\"ticks\":\"\"},\"colorscale\":[[0.0,\"#0d0887\"],[0.1111111111111111,\"#46039f\"],[0.2222222222222222,\"#7201a8\"],[0.3333333333333333,\"#9c179e\"],[0.4444444444444444,\"#bd3786\"],[0.5555555555555556,\"#d8576b\"],[0.6666666666666666,\"#ed7953\"],[0.7777777777777778,\"#fb9f3a\"],[0.8888888888888888,\"#fdca26\"],[1.0,\"#f0f921\"]]}],\"heatmap\":[{\"type\":\"heatmap\",\"colorbar\":{\"outlinewidth\":0,\"ticks\":\"\"},\"colorscale\":[[0.0,\"#0d0887\"],[0.1111111111111111,\"#46039f\"],[0.2222222222222222,\"#7201a8\"],[0.3333333333333333,\"#9c179e\"],[0.4444444444444444,\"#bd3786\"],[0.5555555555555556,\"#d8576b\"],[0.6666666666666666,\"#ed7953\"],[0.7777777777777778,\"#fb9f3a\"],[0.8888888888888888,\"#fdca26\"],[1.0,\"#f0f921\"]]}],\"heatmapgl\":[{\"type\":\"heatmapgl\",\"colorbar\":{\"outlinewidth\":0,\"ticks\":\"\"},\"colorscale\":[[0.0,\"#0d0887\"],[0.1111111111111111,\"#46039f\"],[0.2222222222222222,\"#7201a8\"],[0.3333333333333333,\"#9c179e\"],[0.4444444444444444,\"#bd3786\"],[0.5555555555555556,\"#d8576b\"],[0.6666666666666666,\"#ed7953\"],[0.7777777777777778,\"#fb9f3a\"],[0.8888888888888888,\"#fdca26\"],[1.0,\"#f0f921\"]]}],\"contourcarpet\":[{\"type\":\"contourcarpet\",\"colorbar\":{\"outlinewidth\":0,\"ticks\":\"\"}}],\"contour\":[{\"type\":\"contour\",\"colorbar\":{\"outlinewidth\":0,\"ticks\":\"\"},\"colorscale\":[[0.0,\"#0d0887\"],[0.1111111111111111,\"#46039f\"],[0.2222222222222222,\"#7201a8\"],[0.3333333333333333,\"#9c179e\"],[0.4444444444444444,\"#bd3786\"],[0.5555555555555556,\"#d8576b\"],[0.6666666666666666,\"#ed7953\"],[0.7777777777777778,\"#fb9f3a\"],[0.8888888888888888,\"#fdca26\"],[1.0,\"#f0f921\"]]}],\"surface\":[{\"type\":\"surface\",\"colorbar\":{\"outlinewidth\":0,\"ticks\":\"\"},\"colorscale\":[[0.0,\"#0d0887\"],[0.1111111111111111,\"#46039f\"],[0.2222222222222222,\"#7201a8\"],[0.3333333333333333,\"#9c179e\"],[0.4444444444444444,\"#bd3786\"],[0.5555555555555556,\"#d8576b\"],[0.6666666666666666,\"#ed7953\"],[0.7777777777777778,\"#fb9f3a\"],[0.8888888888888888,\"#fdca26\"],[1.0,\"#f0f921\"]]}],\"mesh3d\":[{\"type\":\"mesh3d\",\"colorbar\":{\"outlinewidth\":0,\"ticks\":\"\"}}],\"scatter\":[{\"fillpattern\":{\"fillmode\":\"overlay\",\"size\":10,\"solidity\":0.2},\"type\":\"scatter\"}],\"parcoords\":[{\"type\":\"parcoords\",\"line\":{\"colorbar\":{\"outlinewidth\":0,\"ticks\":\"\"}}}],\"scatterpolargl\":[{\"type\":\"scatterpolargl\",\"marker\":{\"colorbar\":{\"outlinewidth\":0,\"ticks\":\"\"}}}],\"bar\":[{\"error_x\":{\"color\":\"#2a3f5f\"},\"error_y\":{\"color\":\"#2a3f5f\"},\"marker\":{\"line\":{\"color\":\"#E5ECF6\",\"width\":0.5},\"pattern\":{\"fillmode\":\"overlay\",\"size\":10,\"solidity\":0.2}},\"type\":\"bar\"}],\"scattergeo\":[{\"type\":\"scattergeo\",\"marker\":{\"colorbar\":{\"outlinewidth\":0,\"ticks\":\"\"}}}],\"scatterpolar\":[{\"type\":\"scatterpolar\",\"marker\":{\"colorbar\":{\"outlinewidth\":0,\"ticks\":\"\"}}}],\"histogram\":[{\"marker\":{\"pattern\":{\"fillmode\":\"overlay\",\"size\":10,\"solidity\":0.2}},\"type\":\"histogram\"}],\"scattergl\":[{\"type\":\"scattergl\",\"marker\":{\"colorbar\":{\"outlinewidth\":0,\"ticks\":\"\"}}}],\"scatter3d\":[{\"type\":\"scatter3d\",\"line\":{\"colorbar\":{\"outlinewidth\":0,\"ticks\":\"\"}},\"marker\":{\"colorbar\":{\"outlinewidth\":0,\"ticks\":\"\"}}}],\"scattermapbox\":[{\"type\":\"scattermapbox\",\"marker\":{\"colorbar\":{\"outlinewidth\":0,\"ticks\":\"\"}}}],\"scatterternary\":[{\"type\":\"scatterternary\",\"marker\":{\"colorbar\":{\"outlinewidth\":0,\"ticks\":\"\"}}}],\"scattercarpet\":[{\"type\":\"scattercarpet\",\"marker\":{\"colorbar\":{\"outlinewidth\":0,\"ticks\":\"\"}}}],\"carpet\":[{\"aaxis\":{\"endlinecolor\":\"#2a3f5f\",\"gridcolor\":\"white\",\"linecolor\":\"white\",\"minorgridcolor\":\"white\",\"startlinecolor\":\"#2a3f5f\"},\"baxis\":{\"endlinecolor\":\"#2a3f5f\",\"gridcolor\":\"white\",\"linecolor\":\"white\",\"minorgridcolor\":\"white\",\"startlinecolor\":\"#2a3f5f\"},\"type\":\"carpet\"}],\"table\":[{\"cells\":{\"fill\":{\"color\":\"#EBF0F8\"},\"line\":{\"color\":\"white\"}},\"header\":{\"fill\":{\"color\":\"#C8D4E3\"},\"line\":{\"color\":\"white\"}},\"type\":\"table\"}],\"barpolar\":[{\"marker\":{\"line\":{\"color\":\"#E5ECF6\",\"width\":0.5},\"pattern\":{\"fillmode\":\"overlay\",\"size\":10,\"solidity\":0.2}},\"type\":\"barpolar\"}],\"pie\":[{\"automargin\":true,\"type\":\"pie\"}]},\"layout\":{\"autotypenumbers\":\"strict\",\"colorway\":[\"#636efa\",\"#EF553B\",\"#00cc96\",\"#ab63fa\",\"#FFA15A\",\"#19d3f3\",\"#FF6692\",\"#B6E880\",\"#FF97FF\",\"#FECB52\"],\"font\":{\"color\":\"#2a3f5f\"},\"hovermode\":\"closest\",\"hoverlabel\":{\"align\":\"left\"},\"paper_bgcolor\":\"white\",\"plot_bgcolor\":\"#E5ECF6\",\"polar\":{\"bgcolor\":\"#E5ECF6\",\"angularaxis\":{\"gridcolor\":\"white\",\"linecolor\":\"white\",\"ticks\":\"\"},\"radialaxis\":{\"gridcolor\":\"white\",\"linecolor\":\"white\",\"ticks\":\"\"}},\"ternary\":{\"bgcolor\":\"#E5ECF6\",\"aaxis\":{\"gridcolor\":\"white\",\"linecolor\":\"white\",\"ticks\":\"\"},\"baxis\":{\"gridcolor\":\"white\",\"linecolor\":\"white\",\"ticks\":\"\"},\"caxis\":{\"gridcolor\":\"white\",\"linecolor\":\"white\",\"ticks\":\"\"}},\"coloraxis\":{\"colorbar\":{\"outlinewidth\":0,\"ticks\":\"\"}},\"colorscale\":{\"sequential\":[[0.0,\"#0d0887\"],[0.1111111111111111,\"#46039f\"],[0.2222222222222222,\"#7201a8\"],[0.3333333333333333,\"#9c179e\"],[0.4444444444444444,\"#bd3786\"],[0.5555555555555556,\"#d8576b\"],[0.6666666666666666,\"#ed7953\"],[0.7777777777777778,\"#fb9f3a\"],[0.8888888888888888,\"#fdca26\"],[1.0,\"#f0f921\"]],\"sequentialminus\":[[0.0,\"#0d0887\"],[0.1111111111111111,\"#46039f\"],[0.2222222222222222,\"#7201a8\"],[0.3333333333333333,\"#9c179e\"],[0.4444444444444444,\"#bd3786\"],[0.5555555555555556,\"#d8576b\"],[0.6666666666666666,\"#ed7953\"],[0.7777777777777778,\"#fb9f3a\"],[0.8888888888888888,\"#fdca26\"],[1.0,\"#f0f921\"]],\"diverging\":[[0,\"#8e0152\"],[0.1,\"#c51b7d\"],[0.2,\"#de77ae\"],[0.3,\"#f1b6da\"],[0.4,\"#fde0ef\"],[0.5,\"#f7f7f7\"],[0.6,\"#e6f5d0\"],[0.7,\"#b8e186\"],[0.8,\"#7fbc41\"],[0.9,\"#4d9221\"],[1,\"#276419\"]]},\"xaxis\":{\"gridcolor\":\"white\",\"linecolor\":\"white\",\"ticks\":\"\",\"title\":{\"standoff\":15},\"zerolinecolor\":\"white\",\"automargin\":true,\"zerolinewidth\":2},\"yaxis\":{\"gridcolor\":\"white\",\"linecolor\":\"white\",\"ticks\":\"\",\"title\":{\"standoff\":15},\"zerolinecolor\":\"white\",\"automargin\":true,\"zerolinewidth\":2},\"scene\":{\"xaxis\":{\"backgroundcolor\":\"#E5ECF6\",\"gridcolor\":\"white\",\"linecolor\":\"white\",\"showbackground\":true,\"ticks\":\"\",\"zerolinecolor\":\"white\",\"gridwidth\":2},\"yaxis\":{\"backgroundcolor\":\"#E5ECF6\",\"gridcolor\":\"white\",\"linecolor\":\"white\",\"showbackground\":true,\"ticks\":\"\",\"zerolinecolor\":\"white\",\"gridwidth\":2},\"zaxis\":{\"backgroundcolor\":\"#E5ECF6\",\"gridcolor\":\"white\",\"linecolor\":\"white\",\"showbackground\":true,\"ticks\":\"\",\"zerolinecolor\":\"white\",\"gridwidth\":2}},\"shapedefaults\":{\"line\":{\"color\":\"#2a3f5f\"}},\"annotationdefaults\":{\"arrowcolor\":\"#2a3f5f\",\"arrowhead\":0,\"arrowwidth\":1},\"geo\":{\"bgcolor\":\"white\",\"landcolor\":\"#E5ECF6\",\"subunitcolor\":\"white\",\"showland\":true,\"showlakes\":true,\"lakecolor\":\"white\"},\"title\":{\"x\":0.05},\"mapbox\":{\"style\":\"light\"}}},\"xaxis\":{\"anchor\":\"y\",\"domain\":[0.0,1.0],\"title\":{\"text\":\"Category\"}},\"yaxis\":{\"anchor\":\"x\",\"domain\":[0.0,1.0],\"title\":{\"text\":\"Values\"}},\"legend\":{\"tracegroupgap\":0},\"title\":{\"text\":\"Bar Plot Example\"},\"barmode\":\"relative\"},                        {\"responsive\": true}                    ).then(function(){\n",
              "                            \n",
              "var gd = document.getElementById('3afb830c-a6c9-4964-8a01-aa17fce32838');\n",
              "var x = new MutationObserver(function (mutations, observer) {{\n",
              "        var display = window.getComputedStyle(gd).display;\n",
              "        if (!display || display === 'none') {{\n",
              "            console.log([gd, 'removed!']);\n",
              "            Plotly.purge(gd);\n",
              "            observer.disconnect();\n",
              "        }}\n",
              "}});\n",
              "\n",
              "// Listen for the removal of the full notebook cells\n",
              "var notebookContainer = gd.closest('#notebook-container');\n",
              "if (notebookContainer) {{\n",
              "    x.observe(notebookContainer, {childList: true});\n",
              "}}\n",
              "\n",
              "// Listen for the clearing of the current output cell\n",
              "var outputEl = gd.closest('.output');\n",
              "if (outputEl) {{\n",
              "    x.observe(outputEl, {childList: true});\n",
              "}}\n",
              "\n",
              "                        })                };                            </script>        </div>\n",
              "</body>\n",
              "</html>"
            ]
          },
          "metadata": {}
        }
      ]
    },
    {
      "cell_type": "markdown",
      "source": [
        "**6.A Create a DataFrame and add a new column based on an existing column**"
      ],
      "metadata": {
        "id": "1JlVYJtnrrRt"
      }
    },
    {
      "cell_type": "code",
      "source": [
        "#Here's an example of how to create a DataFrame and add a new column based on an existing column:\n",
        "\n",
        "\n",
        "# Import the Pandas library\n",
        "import pandas as pd\n",
        "\n",
        "# Create a sample DataFrame\n",
        "data = {\n",
        "    'Name': ['John', 'Anna', 'Peter', 'Linda'],\n",
        "    'Age': [28, 24, 35, 32],\n",
        "    'Score': [85, 90, 78, 92]\n",
        "}\n",
        "df = pd.DataFrame(data)\n",
        "\n",
        "# Print the original DataFrame\n",
        "print(\"Original DataFrame:\")\n",
        "print(df)\n",
        "\n",
        "# Add a new column 'Grade' based on the 'Score' column\n",
        "df['Grade'] = pd.cut(df['Score'], bins=[0, 70, 85, 100], labels=['F', 'C', 'A'], include_lowest=True)\n",
        "\n",
        "# Print the updated DataFrame\n",
        "print(\"\\nUpdated DataFrame:\")\n",
        "print(df)\n"
      ],
      "metadata": {
        "colab": {
          "base_uri": "https://localhost:8080/"
        },
        "id": "vygus9zorj4U",
        "outputId": "70ac33c8-54bb-4a9a-caa4-f862e77ea30f"
      },
      "execution_count": 8,
      "outputs": [
        {
          "output_type": "stream",
          "name": "stdout",
          "text": [
            "Original DataFrame:\n",
            "    Name  Age  Score\n",
            "0   John   28     85\n",
            "1   Anna   24     90\n",
            "2  Peter   35     78\n",
            "3  Linda   32     92\n",
            "\n",
            "Updated DataFrame:\n",
            "    Name  Age  Score Grade\n",
            "0   John   28     85     C\n",
            "1   Anna   24     90     A\n",
            "2  Peter   35     78     C\n",
            "3  Linda   32     92     A\n"
          ]
        }
      ]
    },
    {
      "cell_type": "markdown",
      "source": [
        "**7. Write a program to perform element-wise multiplication of two NumPy arrays**"
      ],
      "metadata": {
        "id": "pDYQNxJer-B0"
      }
    },
    {
      "cell_type": "code",
      "source": [
        "#Here's a simple program that performs element-wise multiplication of two NumPy arrays:\n",
        "\n",
        "\n",
        "# Import the NumPy library\n",
        "import numpy as np\n",
        "\n",
        "# Create two sample NumPy arrays\n",
        "array1 = np.array([1, 2, 3, 4, 5])\n",
        "array2 = np.array([6, 7, 8, 9, 10])\n",
        "\n",
        "# Print the original arrays\n",
        "print(\"Array 1:\", array1)\n",
        "print(\"Array 2:\", array2)\n",
        "\n",
        "# Perform element-wise multiplication\n",
        "result = np.multiply(array1, array2)\n",
        "\n",
        "# Print the result\n",
        "print(\"Element-wise Multiplication Result:\", result)\n",
        "\n"
      ],
      "metadata": {
        "colab": {
          "base_uri": "https://localhost:8080/"
        },
        "id": "K1vqW59vr4kD",
        "outputId": "54ba9528-08d6-49fe-9666-dd831d8ada46"
      },
      "execution_count": 9,
      "outputs": [
        {
          "output_type": "stream",
          "name": "stdout",
          "text": [
            "Array 1: [1 2 3 4 5]\n",
            "Array 2: [ 6  7  8  9 10]\n",
            "Element-wise Multiplication Result: [ 6 14 24 36 50]\n"
          ]
        }
      ]
    },
    {
      "cell_type": "markdown",
      "source": [
        "**8.Create a line plot with multiple lines using Matplotlib**"
      ],
      "metadata": {
        "id": "gMCc8q9AsQSi"
      }
    },
    {
      "cell_type": "code",
      "source": [
        "#Here's an example of how to create a line plot with multiple lines using Matplotlib:\n",
        "\n",
        "\n",
        "# Import the Matplotlib library\n",
        "import matplotlib.pyplot as plt\n",
        "\n",
        "# Create some sample data\n",
        "x = [1, 2, 3, 4, 5]\n",
        "y1 = [10, 20, 15, 30, 25]\n",
        "y2 = [5, 10, 8, 15, 12]\n",
        "y3 = [20, 18, 22, 19, 21]\n",
        "\n",
        "# Create the line plot\n",
        "plt.plot(x, y1, label='Line 1', marker='o', linestyle='-', color='blue')\n",
        "plt.plot(x, y2, label='Line 2', marker='s', linestyle='--', color='red')\n",
        "plt.plot(x, y3, label='Line 3', marker='^', linestyle='-.', color='green')\n",
        "\n",
        "# Add title and labels\n",
        "plt.title('Line Plot with Multiple Lines')\n",
        "plt.xlabel('X Axis')\n",
        "plt.ylabel('Y Axis')\n",
        "\n",
        "# Add legend\n",
        "plt.legend()\n",
        "\n",
        "# Display the plot\n",
        "plt.show()\n",
        "\n"
      ],
      "metadata": {
        "colab": {
          "base_uri": "https://localhost:8080/",
          "height": 472
        },
        "id": "gu18ViTusL6z",
        "outputId": "855f78f5-ef47-402a-b24e-91a766bf31ac"
      },
      "execution_count": 10,
      "outputs": [
        {
          "output_type": "display_data",
          "data": {
            "text/plain": [
              "<Figure size 640x480 with 1 Axes>"
            ],
            "image/png": "[encoded data removed]"
          },
          "metadata": {}
        }
      ]
    },
    {
      "cell_type": "markdown",
      "source": [
        "**9. Generate a Pandas DataFrame and filter rows where a column value is greater than a threshold**"
      ],
      "metadata": {
        "id": "hzvUhPdGsfP6"
      }
    },
    {
      "cell_type": "code",
      "source": [
        "#Here's an example of how to generate a Pandas DataFrame and filter rows where a column value is greater than a threshold:\n",
        "\n",
        "\n",
        "# Import the Pandas library\n",
        "import pandas as pd\n",
        "\n",
        "# Generate a sample DataFrame\n",
        "data = {\n",
        "    'Name': ['John', 'Anna', 'Peter', 'Linda', 'Tom'],\n",
        "    'Age': [28, 24, 35, 32, 40],\n",
        "    'Score': [85, 90, 78, 92, 88]\n",
        "}\n",
        "df = pd.DataFrame(data)\n",
        "\n",
        "# Print the original DataFrame\n",
        "print(\"Original DataFrame:\")\n",
        "print(df)\n",
        "\n",
        "# Define the threshold\n",
        "threshold = 30\n",
        "\n",
        "# Filter rows where the 'Age' column value is greater than the threshold\n",
        "filtered_df = df[df['Age'] > threshold]\n",
        "\n",
        "# Print the filtered DataFrame\n",
        "print(\"\\nFiltered DataFrame:\")\n",
        "print(filtered_df)\n",
        "\n"
      ],
      "metadata": {
        "colab": {
          "base_uri": "https://localhost:8080/"
        },
        "id": "dBQaih-ysa1a",
        "outputId": "610ebbcb-c8c7-4f58-cf52-f6a70292e7fd"
      },
      "execution_count": 11,
      "outputs": [
        {
          "output_type": "stream",
          "name": "stdout",
          "text": [
            "Original DataFrame:\n",
            "    Name  Age  Score\n",
            "0   John   28     85\n",
            "1   Anna   24     90\n",
            "2  Peter   35     78\n",
            "3  Linda   32     92\n",
            "4    Tom   40     88\n",
            "\n",
            "Filtered DataFrame:\n",
            "    Name  Age  Score\n",
            "2  Peter   35     78\n",
            "3  Linda   32     92\n",
            "4    Tom   40     88\n"
          ]
        }
      ]
    },
    {
      "cell_type": "markdown",
      "source": [
        "**10.Create a histogram using Seaborn to visualize a distribution**"
      ],
      "metadata": {
        "id": "KFM169zFs0tK"
      }
    },
    {
      "cell_type": "code",
      "source": [
        "#Here's an example of how to create a histogram using Seaborn to visualize a distribution:\n",
        "\n",
        "\n",
        "# Import the necessary libraries\n",
        "import seaborn as sns\n",
        "import matplotlib.pyplot as plt\n",
        "import numpy as np\n",
        "\n",
        "# Generate a sample dataset\n",
        "np.random.seed(0)\n",
        "data = np.random.randn(1000)\n",
        "\n",
        "# Create a histogram using Seaborn\n",
        "plt.figure(figsize=(8, 6))\n",
        "sns.histplot(data, bins=30, kde=True)\n",
        "\n",
        "# Add title and labels\n",
        "plt.title('Histogram of Normal Distribution')\n",
        "plt.xlabel('Value')\n",
        "plt.ylabel('Frequency')\n",
        "\n",
        "# Display the plot\n",
        "plt.show()\n",
        "\n"
      ],
      "metadata": {
        "colab": {
          "base_uri": "https://localhost:8080/",
          "height": 564
        },
        "id": "Vzy5__IvswnL",
        "outputId": "cb87b7fc-c74d-4d85-877d-6359e473f5de"
      },
      "execution_count": 12,
      "outputs": [
        {
          "output_type": "display_data",
          "data": {
            "text/plain": [
              "<Figure size 800x600 with 1 Axes>"
            ],
            "image/png": "[encoded data removed]"
          },
          "metadata": {}
        }
      ]
    },
    {
      "cell_type": "markdown",
      "source": [
        "**11.Perform matrix multiplication using NumPy**"
      ],
      "metadata": {
        "id": "LaUYNkQDtPua"
      }
    },
    {
      "cell_type": "code",
      "source": [
        "#Here's an example of how to perform matrix multiplication using NumPy:\n",
        "\n",
        "\n",
        "# Import the NumPy library\n",
        "import numpy as np\n",
        "\n",
        "# Define two matrices\n",
        "matrix_a = np.array([[1, 2], [3, 4]])\n",
        "matrix_b = np.array([[5, 6], [7, 8]])\n",
        "\n",
        "# Print the matrices\n",
        "print(\"Matrix A:\")\n",
        "print(matrix_a)\n",
        "print(\"\\nMatrix B:\")\n",
        "print(matrix_b)\n",
        "\n",
        "# Perform matrix multiplication using NumPy's matmul() function\n",
        "result = np.matmul(matrix_a, matrix_b)\n",
        "\n",
        "# Print the result\n",
        "print(\"\\nResult of Matrix Multiplication:\")\n",
        "print(result)\n"
      ],
      "metadata": {
        "colab": {
          "base_uri": "https://localhost:8080/"
        },
        "id": "FhWMLQb1tL4i",
        "outputId": "c5f0ea55-4259-4b28-e622-1289979f44a3"
      },
      "execution_count": 13,
      "outputs": [
        {
          "output_type": "stream",
          "name": "stdout",
          "text": [
            "Matrix A:\n",
            "[[1 2]\n",
            " [3 4]]\n",
            "\n",
            "Matrix B:\n",
            "[[5 6]\n",
            " [7 8]]\n",
            "\n",
            "Result of Matrix Multiplication:\n",
            "[[19 22]\n",
            " [43 50]]\n"
          ]
        }
      ]
    },
    {
      "cell_type": "markdown",
      "source": [
        "**12.Use Pandas to load a CSV file and display its first 5 rows**"
      ],
      "metadata": {
        "id": "TkMj3w52tgey"
      }
    },
    {
      "cell_type": "code",
      "source": [
        "#Here's an example of how to use Pandas to load a CSV file and display its first 5 rows:\n",
        "\n",
        "\n",
        "# Import the Pandas library\n",
        "import pandas as pd\n",
        "\n",
        "# Load the CSV file into a Pandas DataFrame\n",
        "def load_csv_file(file_path):\n",
        "    try:\n",
        "        df = pd.read_csv(file_path)\n",
        "        return df\n",
        "    except FileNotFoundError:\n",
        "        print(\"The file does not exist.\")\n",
        "        return None\n",
        "    except pd.errors.EmptyDataError:\n",
        "        print(\"The file is empty.\")\n",
        "        return None\n",
        "    except pd.errors.ParserError:\n",
        "        print(\"Error parsing the file. Please check the file format.\")\n",
        "        return None\n",
        "\n",
        "# Display the first 5 rows of the DataFrame\n",
        "def display_first_rows(df, num_rows=5):\n",
        "    print(df.head(num_rows))\n",
        "\n",
        "# Main program\n",
        "def main():\n",
        "    file_path = \"your_file.csv\"  # Replace with your CSV file path\n",
        "    df = load_csv_file(file_path)\n",
        "\n",
        "    if df is not None:\n",
        "        display_first_rows(df)\n",
        "\n",
        "if __name__ == \"__main__\":\n",
        "    main()\n"
      ],
      "metadata": {
        "id": "nOioJrEXtb3i"
      },
      "execution_count": null,
      "outputs": []
    },
    {
      "cell_type": "markdown",
      "source": [
        "**13. Create a 3D scatter plot using Plotly**"
      ],
      "metadata": {
        "id": "o3Ts_9D4uBMp"
      }
    },
    {
      "cell_type": "code",
      "source": [
        "#Here's an example of how to create a 3D scatter plot using Plotly:\n",
        "\n",
        "\n",
        "# Import the necessary libraries\n",
        "import plotly.graph_objects as go\n",
        "import numpy as np\n",
        "\n",
        "# Generate some sample data\n",
        "np.random.seed(0)\n",
        "x = np.random.randn(100)\n",
        "y = np.random.randn(100)\n",
        "z = np.random.randn(100)\n",
        "\n",
        "# Create a 3D scatter plot\n",
        "fig = go.Figure(data=[go.Scatter3d(\n",
        "    x=x,\n",
        "    y=y,\n",
        "    z=z,\n",
        "    mode='markers',\n",
        "    marker=dict(\n",
        "        size=5,\n",
        "        color=z,  # Color the markers based on the z-values\n",
        "        colorscale='Viridis',\n",
        "        opacity=0.8\n",
        "    )\n",
        ")])\n",
        "\n",
        "# Customize the plot\n",
        "fig.update_layout(\n",
        "    title='3D Scatter Plot',\n",
        "    scene=dict(\n",
        "        xaxis_title='X',\n",
        "        yaxis_title='Y',\n",
        "        zaxis_title='Z'\n",
        "    ),\n",
        "    width=700,\n",
        "    height=700\n",
        ")\n",
        "\n",
        "# Display the plot\n",
        "fig.show()\n",
        "\n"
      ],
      "metadata": {
        "colab": {
          "base_uri": "https://localhost:8080/",
          "height": 717
        },
        "id": "llb4BPBmtyxC",
        "outputId": "5637c2db-e351-43c8-942b-600d6b992d3c"
      },
      "execution_count": 15,
      "outputs": [
        {
          "output_type": "display_data",
          "data": {
            "text/html": [
              "<html>\n",
              "<head><meta charset=\"utf-8\" /></head>\n",
              "<body>\n",
              "    <div>            <script src=\"https://cdnjs.cloudflare.com/ajax/libs/mathjax/2.7.5/MathJax.js?config=TeX-AMS-MML_SVG\"></script><script type=\"text/javascript\">if (window.MathJax && window.MathJax.Hub && window.MathJax.Hub.Config) {window.MathJax.Hub.Config({SVG: {font: \"STIX-Web\"}});}</script>                <script type=\"text/javascript\">window.PlotlyConfig = {MathJaxConfig: 'local'};</script>\n",
              "        <script charset=\"utf-8\" src=\"https://cdn.plot.ly/plotly-2.35.2.min.js\"></script>                <div id=\"3bab275c-0f0e-4ac8-8e08-6f5b18af388f\" class=\"plotly-graph-div\" style=\"height:700px; width:700px;\"></div>            <script type=\"text/javascript\">                                    window.PLOTLYENV=window.PLOTLYENV || {};                                    if (document.getElementById(\"3bab275c-0f0e-4ac8-8e08-6f5b18af388f\")) {                    Plotly.newPlot(                        \"3bab275c-0f0e-4ac8-8e08-6f5b18af388f\",                        [{\"marker\":{\"color\":[-0.3691818379424436,-0.2393791775759264,1.0996595958871132,0.6552637307225978,0.640131526097592,-1.6169560443108344,-0.024326124398935636,-0.7380309092056887,0.27992459904323824,-0.09815038964295794,0.9101789080925919,0.31721821519130206,0.7863279621089762,-0.46641909673594306,-0.9444462559182504,-0.41004969320254847,-0.017020413861440594,0.3791517355550818,2.259308950690852,-0.04225715166064269,-0.955945000492777,-0.34598177569938643,-0.4635959746460942,0.4814814737734622,-1.5407970144446248,0.06326199420033171,0.1565065379653756,0.23218103620027578,-0.5973160689653627,-0.237921729736007,-1.4240609089825316,-0.49331988336219407,-0.5428614760167177,0.4160500462614255,-1.1561824318219127,0.7811981017099934,1.4944845444913688,-2.0699850250135325,0.42625873077810095,0.6769080350302455,-0.637437025552229,-0.39727181432879766,-0.13288057758695562,-0.2977908794017283,-0.3090129690471222,-1.6760038063299767,1.15233156478312,1.079618592036821,-0.8133642592042029,-1.466424327802514,0.5210648764527586,-0.5757879698130661,0.14195316332077967,-0.3193284171450952,0.6915387510701866,0.6947491436560059,-0.7255973784635843,-1.3833639553950554,-1.582938397335082,0.6103793791072052,-1.188859257784029,-0.5068163542986875,-0.5963140384505081,-0.05256729626954629,-1.936279805846507,0.18877859679382855,0.5238910238342056,0.08842208704466141,-0.3108861716984717,0.09740016626878341,0.3990463456401302,-2.77259275642665,1.9559123082506942,0.39009332268792646,-0.65240858238702,-0.3909533751876011,0.49374177734918845,-0.11610393903436653,-2.0306844677814944,2.0644928613593194,-0.11054065723247261,1.0201727117157997,-0.6920498477843912,1.5363770542457977,0.28634368889227957,0.6088438344754508,-1.0452533661469547,1.2111452896827009,0.6898181645347884,1.3018462295649984,-0.6280875596415789,-0.4810271184607877,2.303916697683942,-1.0600158227215473,-0.13594970067832082,1.1368913626026953,0.0977249677148556,0.5829536797532936,-0.3994490292628752,0.37005588784751875],\"colorscale\":[[0.0,\"#440154\"],[0.1111111111111111,\"#482878\"],[0.2222222222222222,\"#3e4989\"],[0.3333333333333333,\"#31688e\"],[0.4444444444444444,\"#26828e\"],[0.5555555555555556,\"#1f9e89\"],[0.6666666666666666,\"#35b779\"],[0.7777777777777778,\"#6ece58\"],[0.8888888888888888,\"#b5de2b\"],[1.0,\"#fde725\"]],\"opacity\":0.8,\"size\":5},\"mode\":\"markers\",\"x\":[1.764052345967664,0.4001572083672233,0.9787379841057392,2.240893199201458,1.8675579901499675,-0.977277879876411,0.9500884175255894,-0.1513572082976979,-0.10321885179355784,0.41059850193837233,0.144043571160878,1.454273506962975,0.7610377251469934,0.12167501649282841,0.44386323274542566,0.33367432737426683,1.4940790731576061,-0.20515826376580087,0.31306770165090136,-0.8540957393017248,-2.5529898158340787,0.6536185954403606,0.8644361988595057,-0.7421650204064419,2.2697546239876076,-1.4543656745987648,0.04575851730144607,-0.1871838500258336,1.5327792143584575,1.469358769900285,0.1549474256969163,0.37816251960217356,-0.8877857476301128,-1.980796468223927,-0.3479121493261526,0.15634896910398005,1.2302906807277207,1.2023798487844113,-0.3873268174079523,-0.30230275057533557,-1.0485529650670926,-1.4200179371789752,-1.7062701906250126,1.9507753952317897,-0.5096521817516535,-0.4380743016111864,-1.2527953600499262,0.7774903558319101,-1.6138978475579515,-0.2127402802139687,-0.8954665611936756,0.386902497859262,-0.510805137568873,-1.180632184122412,-0.028182228338654868,0.42833187053041766,0.06651722238316789,0.3024718977397814,-0.6343220936809636,-0.3627411659871381,-0.672460447775951,-0.3595531615405413,-0.813146282044454,-1.7262826023316769,0.17742614225375283,-0.4017809362082619,-1.6301983469660446,0.4627822555257742,-0.9072983643832422,0.05194539579613895,0.7290905621775369,0.12898291075741067,1.1394006845433007,-1.2348258203536526,0.402341641177549,-0.6848100909403132,-0.8707971491818818,-0.5788496647644155,-0.31155253212737266,0.05616534222974544,-1.1651498407833565,0.9008264869541871,0.46566243973045984,-1.5362436862772237,1.4882521937955997,1.8958891760305832,1.1787795711596507,-0.17992483581235091,-1.0707526215105425,1.0544517269311366,-0.40317694697317963,1.2224450703824274,0.2082749780768603,0.9766390364837128,0.3563663971744019,0.7065731681919482,0.010500020720820478,1.7858704939058352,0.12691209270361992,0.40198936344470165],\"y\":[1.8831506970562544,-1.3477590611424464,-1.2704849984857336,0.9693967081580112,-1.17312340511416,1.9436211856492926,-0.41361898075974735,-0.7474548114407578,1.9229420264803847,1.4805147914344243,1.8675589604265699,0.9060446582753853,-0.8612256850547025,1.9100649530990337,-0.2680033709513804,0.8024563957963952,0.947251967773748,-0.1550100930908342,0.6140793703460803,0.9222066715665268,0.37642553115562943,-1.0994007905841945,0.298238174206056,1.3263858966870303,-0.6945678597313655,-0.14963454032767076,-0.43515355172163744,1.8492637284793418,0.6722947570124355,0.40746183624111043,-0.7699160744453164,0.5392491912918173,-0.6743326606573761,0.03183055827435118,-0.635846078378881,0.6764332949464997,0.5765908166149409,-0.20829875557799488,0.3960067126616453,-1.0930615087305058,-1.4912575927056055,0.4393917012645369,0.16667349537252904,0.6350314368921064,2.383144774863942,0.9444794869904138,-0.9128222254441586,1.117016288095853,-1.3159074105115212,-0.461584604814709,-0.06824160532463124,1.7133427216493666,-0.7447548220484399,-0.8264385386590144,-0.0984525244254323,-0.6634782863621074,1.126635922106507,-1.0799315083634233,-1.1474686524111024,-0.43782004474443403,-0.4980324506923049,1.9295320538169858,0.9494208069257608,0.0875512413851909,-1.225435518830168,0.8443629764015471,-1.0002153473895647,-1.5447710967776116,1.1880297923523018,0.3169426119248496,0.920858823780819,0.3187276529430212,0.8568306119026912,-0.6510255933001469,-1.0342428417844647,0.681594518281627,-0.8034096641738411,-0.6895497777502005,-0.45553250351734315,0.01747915902505673,-0.35399391125348395,-1.3749512934180188,-0.6436184028328905,-2.2234031522244266,0.6252314510271875,-1.6020576556067476,-1.1043833394284506,0.052165079260974405,-0.7395629963913133,1.5430145954067358,-1.2928569097234486,0.26705086934918293,-0.0392828182274956,-1.1680934977411974,0.5232766605317537,-0.1715463312222481,0.7717905512136674,0.8235041539637314,2.16323594928069,1.336527949436392],\"z\":[-0.3691818379424436,-0.2393791775759264,1.0996595958871132,0.6552637307225978,0.640131526097592,-1.6169560443108344,-0.024326124398935636,-0.7380309092056887,0.27992459904323824,-0.09815038964295794,0.9101789080925919,0.31721821519130206,0.7863279621089762,-0.46641909673594306,-0.9444462559182504,-0.41004969320254847,-0.017020413861440594,0.3791517355550818,2.259308950690852,-0.04225715166064269,-0.955945000492777,-0.34598177569938643,-0.4635959746460942,0.4814814737734622,-1.5407970144446248,0.06326199420033171,0.1565065379653756,0.23218103620027578,-0.5973160689653627,-0.237921729736007,-1.4240609089825316,-0.49331988336219407,-0.5428614760167177,0.4160500462614255,-1.1561824318219127,0.7811981017099934,1.4944845444913688,-2.0699850250135325,0.42625873077810095,0.6769080350302455,-0.637437025552229,-0.39727181432879766,-0.13288057758695562,-0.2977908794017283,-0.3090129690471222,-1.6760038063299767,1.15233156478312,1.079618592036821,-0.8133642592042029,-1.466424327802514,0.5210648764527586,-0.5757879698130661,0.14195316332077967,-0.3193284171450952,0.6915387510701866,0.6947491436560059,-0.7255973784635843,-1.3833639553950554,-1.582938397335082,0.6103793791072052,-1.188859257784029,-0.5068163542986875,-0.5963140384505081,-0.05256729626954629,-1.936279805846507,0.18877859679382855,0.5238910238342056,0.08842208704466141,-0.3108861716984717,0.09740016626878341,0.3990463456401302,-2.77259275642665,1.9559123082506942,0.39009332268792646,-0.65240858238702,-0.3909533751876011,0.49374177734918845,-0.11610393903436653,-2.0306844677814944,2.0644928613593194,-0.11054065723247261,1.0201727117157997,-0.6920498477843912,1.5363770542457977,0.28634368889227957,0.6088438344754508,-1.0452533661469547,1.2111452896827009,0.6898181645347884,1.3018462295649984,-0.6280875596415789,-0.4810271184607877,2.303916697683942,-1.0600158227215473,-0.13594970067832082,1.1368913626026953,0.0977249677148556,0.5829536797532936,-0.3994490292628752,0.37005588784751875],\"type\":\"scatter3d\"}],                        {\"template\":{\"data\":{\"histogram2dcontour\":[{\"type\":\"histogram2dcontour\",\"colorbar\":{\"outlinewidth\":0,\"ticks\":\"\"},\"colorscale\":[[0.0,\"#0d0887\"],[0.1111111111111111,\"#46039f\"],[0.2222222222222222,\"#7201a8\"],[0.3333333333333333,\"#9c179e\"],[0.4444444444444444,\"#bd3786\"],[0.5555555555555556,\"#d8576b\"],[0.6666666666666666,\"#ed7953\"],[0.7777777777777778,\"#fb9f3a\"],[0.8888888888888888,\"#fdca26\"],[1.0,\"#f0f921\"]]}],\"choropleth\":[{\"type\":\"choropleth\",\"colorbar\":{\"outlinewidth\":0,\"ticks\":\"\"}}],\"histogram2d\":[{\"type\":\"histogram2d\",\"colorbar\":{\"outlinewidth\":0,\"ticks\":\"\"},\"colorscale\":[[0.0,\"#0d0887\"],[0.1111111111111111,\"#46039f\"],[0.2222222222222222,\"#7201a8\"],[0.3333333333333333,\"#9c179e\"],[0.4444444444444444,\"#bd3786\"],[0.5555555555555556,\"#d8576b\"],[0.6666666666666666,\"#ed7953\"],[0.7777777777777778,\"#fb9f3a\"],[0.8888888888888888,\"#fdca26\"],[1.0,\"#f0f921\"]]}],\"heatmap\":[{\"type\":\"heatmap\",\"colorbar\":{\"outlinewidth\":0,\"ticks\":\"\"},\"colorscale\":[[0.0,\"#0d0887\"],[0.1111111111111111,\"#46039f\"],[0.2222222222222222,\"#7201a8\"],[0.3333333333333333,\"#9c179e\"],[0.4444444444444444,\"#bd3786\"],[0.5555555555555556,\"#d8576b\"],[0.6666666666666666,\"#ed7953\"],[0.7777777777777778,\"#fb9f3a\"],[0.8888888888888888,\"#fdca26\"],[1.0,\"#f0f921\"]]}],\"heatmapgl\":[{\"type\":\"heatmapgl\",\"colorbar\":{\"outlinewidth\":0,\"ticks\":\"\"},\"colorscale\":[[0.0,\"#0d0887\"],[0.1111111111111111,\"#46039f\"],[0.2222222222222222,\"#7201a8\"],[0.3333333333333333,\"#9c179e\"],[0.4444444444444444,\"#bd3786\"],[0.5555555555555556,\"#d8576b\"],[0.6666666666666666,\"#ed7953\"],[0.7777777777777778,\"#fb9f3a\"],[0.8888888888888888,\"#fdca26\"],[1.0,\"#f0f921\"]]}],\"contourcarpet\":[{\"type\":\"contourcarpet\",\"colorbar\":{\"outlinewidth\":0,\"ticks\":\"\"}}],\"contour\":[{\"type\":\"contour\",\"colorbar\":{\"outlinewidth\":0,\"ticks\":\"\"},\"colorscale\":[[0.0,\"#0d0887\"],[0.1111111111111111,\"#46039f\"],[0.2222222222222222,\"#7201a8\"],[0.3333333333333333,\"#9c179e\"],[0.4444444444444444,\"#bd3786\"],[0.5555555555555556,\"#d8576b\"],[0.6666666666666666,\"#ed7953\"],[0.7777777777777778,\"#fb9f3a\"],[0.8888888888888888,\"#fdca26\"],[1.0,\"#f0f921\"]]}],\"surface\":[{\"type\":\"surface\",\"colorbar\":{\"outlinewidth\":0,\"ticks\":\"\"},\"colorscale\":[[0.0,\"#0d0887\"],[0.1111111111111111,\"#46039f\"],[0.2222222222222222,\"#7201a8\"],[0.3333333333333333,\"#9c179e\"],[0.4444444444444444,\"#bd3786\"],[0.5555555555555556,\"#d8576b\"],[0.6666666666666666,\"#ed7953\"],[0.7777777777777778,\"#fb9f3a\"],[0.8888888888888888,\"#fdca26\"],[1.0,\"#f0f921\"]]}],\"mesh3d\":[{\"type\":\"mesh3d\",\"colorbar\":{\"outlinewidth\":0,\"ticks\":\"\"}}],\"scatter\":[{\"fillpattern\":{\"fillmode\":\"overlay\",\"size\":10,\"solidity\":0.2},\"type\":\"scatter\"}],\"parcoords\":[{\"type\":\"parcoords\",\"line\":{\"colorbar\":{\"outlinewidth\":0,\"ticks\":\"\"}}}],\"scatterpolargl\":[{\"type\":\"scatterpolargl\",\"marker\":{\"colorbar\":{\"outlinewidth\":0,\"ticks\":\"\"}}}],\"bar\":[{\"error_x\":{\"color\":\"#2a3f5f\"},\"error_y\":{\"color\":\"#2a3f5f\"},\"marker\":{\"line\":{\"color\":\"#E5ECF6\",\"width\":0.5},\"pattern\":{\"fillmode\":\"overlay\",\"size\":10,\"solidity\":0.2}},\"type\":\"bar\"}],\"scattergeo\":[{\"type\":\"scattergeo\",\"marker\":{\"colorbar\":{\"outlinewidth\":0,\"ticks\":\"\"}}}],\"scatterpolar\":[{\"type\":\"scatterpolar\",\"marker\":{\"colorbar\":{\"outlinewidth\":0,\"ticks\":\"\"}}}],\"histogram\":[{\"marker\":{\"pattern\":{\"fillmode\":\"overlay\",\"size\":10,\"solidity\":0.2}},\"type\":\"histogram\"}],\"scattergl\":[{\"type\":\"scattergl\",\"marker\":{\"colorbar\":{\"outlinewidth\":0,\"ticks\":\"\"}}}],\"scatter3d\":[{\"type\":\"scatter3d\",\"line\":{\"colorbar\":{\"outlinewidth\":0,\"ticks\":\"\"}},\"marker\":{\"colorbar\":{\"outlinewidth\":0,\"ticks\":\"\"}}}],\"scattermapbox\":[{\"type\":\"scattermapbox\",\"marker\":{\"colorbar\":{\"outlinewidth\":0,\"ticks\":\"\"}}}],\"scatterternary\":[{\"type\":\"scatterternary\",\"marker\":{\"colorbar\":{\"outlinewidth\":0,\"ticks\":\"\"}}}],\"scattercarpet\":[{\"type\":\"scattercarpet\",\"marker\":{\"colorbar\":{\"outlinewidth\":0,\"ticks\":\"\"}}}],\"carpet\":[{\"aaxis\":{\"endlinecolor\":\"#2a3f5f\",\"gridcolor\":\"white\",\"linecolor\":\"white\",\"minorgridcolor\":\"white\",\"startlinecolor\":\"#2a3f5f\"},\"baxis\":{\"endlinecolor\":\"#2a3f5f\",\"gridcolor\":\"white\",\"linecolor\":\"white\",\"minorgridcolor\":\"white\",\"startlinecolor\":\"#2a3f5f\"},\"type\":\"carpet\"}],\"table\":[{\"cells\":{\"fill\":{\"color\":\"#EBF0F8\"},\"line\":{\"color\":\"white\"}},\"header\":{\"fill\":{\"color\":\"#C8D4E3\"},\"line\":{\"color\":\"white\"}},\"type\":\"table\"}],\"barpolar\":[{\"marker\":{\"line\":{\"color\":\"#E5ECF6\",\"width\":0.5},\"pattern\":{\"fillmode\":\"overlay\",\"size\":10,\"solidity\":0.2}},\"type\":\"barpolar\"}],\"pie\":[{\"automargin\":true,\"type\":\"pie\"}]},\"layout\":{\"autotypenumbers\":\"strict\",\"colorway\":[\"#636efa\",\"#EF553B\",\"#00cc96\",\"#ab63fa\",\"#FFA15A\",\"#19d3f3\",\"#FF6692\",\"#B6E880\",\"#FF97FF\",\"#FECB52\"],\"font\":{\"color\":\"#2a3f5f\"},\"hovermode\":\"closest\",\"hoverlabel\":{\"align\":\"left\"},\"paper_bgcolor\":\"white\",\"plot_bgcolor\":\"#E5ECF6\",\"polar\":{\"bgcolor\":\"#E5ECF6\",\"angularaxis\":{\"gridcolor\":\"white\",\"linecolor\":\"white\",\"ticks\":\"\"},\"radialaxis\":{\"gridcolor\":\"white\",\"linecolor\":\"white\",\"ticks\":\"\"}},\"ternary\":{\"bgcolor\":\"#E5ECF6\",\"aaxis\":{\"gridcolor\":\"white\",\"linecolor\":\"white\",\"ticks\":\"\"},\"baxis\":{\"gridcolor\":\"white\",\"linecolor\":\"white\",\"ticks\":\"\"},\"caxis\":{\"gridcolor\":\"white\",\"linecolor\":\"white\",\"ticks\":\"\"}},\"coloraxis\":{\"colorbar\":{\"outlinewidth\":0,\"ticks\":\"\"}},\"colorscale\":{\"sequential\":[[0.0,\"#0d0887\"],[0.1111111111111111,\"#46039f\"],[0.2222222222222222,\"#7201a8\"],[0.3333333333333333,\"#9c179e\"],[0.4444444444444444,\"#bd3786\"],[0.5555555555555556,\"#d8576b\"],[0.6666666666666666,\"#ed7953\"],[0.7777777777777778,\"#fb9f3a\"],[0.8888888888888888,\"#fdca26\"],[1.0,\"#f0f921\"]],\"sequentialminus\":[[0.0,\"#0d0887\"],[0.1111111111111111,\"#46039f\"],[0.2222222222222222,\"#7201a8\"],[0.3333333333333333,\"#9c179e\"],[0.4444444444444444,\"#bd3786\"],[0.5555555555555556,\"#d8576b\"],[0.6666666666666666,\"#ed7953\"],[0.7777777777777778,\"#fb9f3a\"],[0.8888888888888888,\"#fdca26\"],[1.0,\"#f0f921\"]],\"diverging\":[[0,\"#8e0152\"],[0.1,\"#c51b7d\"],[0.2,\"#de77ae\"],[0.3,\"#f1b6da\"],[0.4,\"#fde0ef\"],[0.5,\"#f7f7f7\"],[0.6,\"#e6f5d0\"],[0.7,\"#b8e186\"],[0.8,\"#7fbc41\"],[0.9,\"#4d9221\"],[1,\"#276419\"]]},\"xaxis\":{\"gridcolor\":\"white\",\"linecolor\":\"white\",\"ticks\":\"\",\"title\":{\"standoff\":15},\"zerolinecolor\":\"white\",\"automargin\":true,\"zerolinewidth\":2},\"yaxis\":{\"gridcolor\":\"white\",\"linecolor\":\"white\",\"ticks\":\"\",\"title\":{\"standoff\":15},\"zerolinecolor\":\"white\",\"automargin\":true,\"zerolinewidth\":2},\"scene\":{\"xaxis\":{\"backgroundcolor\":\"#E5ECF6\",\"gridcolor\":\"white\",\"linecolor\":\"white\",\"showbackground\":true,\"ticks\":\"\",\"zerolinecolor\":\"white\",\"gridwidth\":2},\"yaxis\":{\"backgroundcolor\":\"#E5ECF6\",\"gridcolor\":\"white\",\"linecolor\":\"white\",\"showbackground\":true,\"ticks\":\"\",\"zerolinecolor\":\"white\",\"gridwidth\":2},\"zaxis\":{\"backgroundcolor\":\"#E5ECF6\",\"gridcolor\":\"white\",\"linecolor\":\"white\",\"showbackground\":true,\"ticks\":\"\",\"zerolinecolor\":\"white\",\"gridwidth\":2}},\"shapedefaults\":{\"line\":{\"color\":\"#2a3f5f\"}},\"annotationdefaults\":{\"arrowcolor\":\"#2a3f5f\",\"arrowhead\":0,\"arrowwidth\":1},\"geo\":{\"bgcolor\":\"white\",\"landcolor\":\"#E5ECF6\",\"subunitcolor\":\"white\",\"showland\":true,\"showlakes\":true,\"lakecolor\":\"white\"},\"title\":{\"x\":0.05},\"mapbox\":{\"style\":\"light\"}}},\"title\":{\"text\":\"3D Scatter Plot\"},\"scene\":{\"xaxis\":{\"title\":{\"text\":\"X\"}},\"yaxis\":{\"title\":{\"text\":\"Y\"}},\"zaxis\":{\"title\":{\"text\":\"Z\"}}},\"width\":700,\"height\":700},                        {\"responsive\": true}                    ).then(function(){\n",
              "                            \n",
              "var gd = document.getElementById('3bab275c-0f0e-4ac8-8e08-6f5b18af388f');\n",
              "var x = new MutationObserver(function (mutations, observer) {{\n",
              "        var display = window.getComputedStyle(gd).display;\n",
              "        if (!display || display === 'none') {{\n",
              "            console.log([gd, 'removed!']);\n",
              "            Plotly.purge(gd);\n",
              "            observer.disconnect();\n",
              "        }}\n",
              "}});\n",
              "\n",
              "// Listen for the removal of the full notebook cells\n",
              "var notebookContainer = gd.closest('#notebook-container');\n",
              "if (notebookContainer) {{\n",
              "    x.observe(notebookContainer, {childList: true});\n",
              "}}\n",
              "\n",
              "// Listen for the clearing of the current output cell\n",
              "var outputEl = gd.closest('.output');\n",
              "if (outputEl) {{\n",
              "    x.observe(outputEl, {childList: true});\n",
              "}}\n",
              "\n",
              "                        })                };                            </script>        </div>\n",
              "</body>\n",
              "</html>"
            ]
          },
          "metadata": {}
        }
      ]
    },
    {
      "cell_type": "code",
      "source": [],
      "metadata": {
        "id": "QANdZJ0huPHL"
      },
      "execution_count": null,
      "outputs": []
    }
  ]
}